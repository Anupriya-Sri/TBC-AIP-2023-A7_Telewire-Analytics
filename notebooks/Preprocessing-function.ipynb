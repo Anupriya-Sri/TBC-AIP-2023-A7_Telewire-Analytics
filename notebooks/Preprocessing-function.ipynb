{
 "cells": [
  {
   "cell_type": "code",
   "execution_count": null,
   "id": "debae48d",
   "metadata": {},
   "outputs": [],
   "source": [
    "import pandas as pd\n",
    "from sklearn.preprocessing import OneHotEncoder, StandardScaler\n",
    "from sklearn.impute import SimpleImputer\n",
    "def load_data(filename):\n",
    "    # Load the raw data from a CSV file\n",
    "    data = pd.read_csv(filename)\n",
    "    return data\n",
    "\n",
    "def clean_data(data):\n",
    "    # Remove any rows with missing values\n",
    "    data = data.dropna()\n",
    "    return data\n",
    "\n",
    "def encode_categorical(data):\n",
    "    # Encode categorical variables as binary features\n",
    "    encoder = OneHotEncoder()\n",
    "    encoded = encoder.fit_transform(data[['category']])\n",
    "    data = pd.concat([data.drop('category', axis=1), encoded], axis=1)\n",
    "    return data\n",
    "\n",
    "def scale_numerical(data):\n",
    "    # Scale numerical features to have zero mean and unit variance\n",
    "    scaler = StandardScaler()\n",
    "    scaled = scaler.fit_transform(data[['numeric_feature']])\n",
    "    data['numeric_feature'] = scaled\n",
    "    return data\n",
    "#return instead of save \n",
    "\n",
    "def save_data(data, filename):\n",
    "    # Save the preprocessed data to a CSV file\n",
    "    data.to_csv(filename, index=False)\n",
    "\n",
    "if __name__ == '__main__':\n",
    "    # Load the raw data\n",
    "    data = load_data('raw_data.csv')\n",
    "\n",
    "    # Clean the data\n",
    "    data = clean_data(data)\n",
    "\n",
    "    # Encode categorical variables\n",
    "    data = encode_categorical(data)\n",
    "\n",
    "    # Scale numerical features\n",
    "    data = scale_numerical(data)\n"
   ]
  }
 ],
 "metadata": {
  "kernelspec": {
   "display_name": "Python 3 (ipykernel)",
   "language": "python",
   "name": "python3"
  },
  "language_info": {
   "codemirror_mode": {
    "name": "ipython",
    "version": 3
   },
   "file_extension": ".py",
   "mimetype": "text/x-python",
   "name": "python",
   "nbconvert_exporter": "python",
   "pygments_lexer": "ipython3",
   "version": "3.9.13"
  }
 },
 "nbformat": 4,
 "nbformat_minor": 5
}
