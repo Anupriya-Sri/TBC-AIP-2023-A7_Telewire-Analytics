{
 "cells": [
  {
   "cell_type": "code",
   "execution_count": 17,
   "id": "0ca2961a",
   "metadata": {},
   "outputs": [],
   "source": [
    "from sklearn.model_selection import train_test_split\n",
    "import numpy as np\n",
    "import pandas as pd\n",
    "import joblib\n",
    "from sklearn.ensemble import RandomForestClassifier"
   ]
  },
  {
   "cell_type": "code",
   "execution_count": 13,
   "id": "e746c7b9",
   "metadata": {},
   "outputs": [],
   "source": [
    "data = pd.read_csv('../data/raw/data.csv',  encoding= 'unicode_escape')\n",
    "y = data[\"Unusual\"]                      #defining the labels\n",
    "X = data.drop([\"Unusual\"], axis=1)\n",
    "X_train, X_test, y_train, y_test = train_test_split(X, y, test_size=0.33, random_state=42)"
   ]
  },
  {
   "cell_type": "code",
   "execution_count": 19,
   "id": "b993ae21",
   "metadata": {},
   "outputs": [],
   "source": [
    "# Load the pipeline from disk using joblib\n",
    "loaded_pipeline = joblib.load('preprocessing_pipeline.joblib')\n",
    "X_processed_data = loaded_pipeline.transform(X_train)"
   ]
  },
  {
   "cell_type": "code",
   "execution_count": 18,
   "id": "aa8a62c4",
   "metadata": {},
   "outputs": [],
   "source": [
    "# Define the machine learning model\n",
    "model = RandomForestClassifier(n_estimators=100, max_depth=5)"
   ]
  },
  {
   "cell_type": "code",
   "execution_count": 21,
   "id": "995f6486",
   "metadata": {},
   "outputs": [
    {
     "data": {
      "text/plain": [
       "RandomForestClassifier(max_depth=5)"
      ]
     },
     "execution_count": 21,
     "metadata": {},
     "output_type": "execute_result"
    }
   ],
   "source": [
    "# Fit the machine learning model to the pre-processed data\n",
    "model.fit(X_processed_data, y_train)"
   ]
  },
  {
   "cell_type": "code",
   "execution_count": 3,
   "id": "9851325c",
   "metadata": {},
   "outputs": [
    {
     "name": "stdout",
     "output_type": "stream",
     "text": [
      "Requirement already satisfied: import-ipynb in /Users/nikulnayi/opt/anaconda3/lib/python3.9/site-packages (0.1.4)\n",
      "Requirement already satisfied: IPython in /Users/nikulnayi/opt/anaconda3/lib/python3.9/site-packages (from import-ipynb) (7.31.1)\n",
      "Requirement already satisfied: nbformat in /Users/nikulnayi/opt/anaconda3/lib/python3.9/site-packages (from import-ipynb) (5.5.0)\n",
      "Requirement already satisfied: pickleshare in /Users/nikulnayi/opt/anaconda3/lib/python3.9/site-packages (from IPython->import-ipynb) (0.7.5)\n",
      "Requirement already satisfied: pexpect>4.3 in /Users/nikulnayi/opt/anaconda3/lib/python3.9/site-packages (from IPython->import-ipynb) (4.8.0)\n",
      "Requirement already satisfied: appnope in /Users/nikulnayi/opt/anaconda3/lib/python3.9/site-packages (from IPython->import-ipynb) (0.1.2)\n",
      "Requirement already satisfied: jedi>=0.16 in /Users/nikulnayi/opt/anaconda3/lib/python3.9/site-packages (from IPython->import-ipynb) (0.18.1)\n",
      "Requirement already satisfied: pygments in /Users/nikulnayi/opt/anaconda3/lib/python3.9/site-packages (from IPython->import-ipynb) (2.11.2)\n",
      "Requirement already satisfied: matplotlib-inline in /Users/nikulnayi/opt/anaconda3/lib/python3.9/site-packages (from IPython->import-ipynb) (0.1.6)\n",
      "Requirement already satisfied: setuptools>=18.5 in /Users/nikulnayi/opt/anaconda3/lib/python3.9/site-packages (from IPython->import-ipynb) (63.4.1)\n",
      "Requirement already satisfied: traitlets>=4.2 in /Users/nikulnayi/opt/anaconda3/lib/python3.9/site-packages (from IPython->import-ipynb) (5.1.1)\n",
      "Requirement already satisfied: prompt-toolkit!=3.0.0,!=3.0.1,<3.1.0,>=2.0.0 in /Users/nikulnayi/opt/anaconda3/lib/python3.9/site-packages (from IPython->import-ipynb) (3.0.20)\n",
      "Requirement already satisfied: decorator in /Users/nikulnayi/opt/anaconda3/lib/python3.9/site-packages (from IPython->import-ipynb) (5.1.1)\n",
      "Requirement already satisfied: backcall in /Users/nikulnayi/opt/anaconda3/lib/python3.9/site-packages (from IPython->import-ipynb) (0.2.0)\n",
      "Requirement already satisfied: jupyter_core in /Users/nikulnayi/opt/anaconda3/lib/python3.9/site-packages (from nbformat->import-ipynb) (4.11.1)\n",
      "Requirement already satisfied: fastjsonschema in /Users/nikulnayi/opt/anaconda3/lib/python3.9/site-packages (from nbformat->import-ipynb) (2.16.2)\n",
      "Requirement already satisfied: jsonschema>=2.6 in /Users/nikulnayi/opt/anaconda3/lib/python3.9/site-packages (from nbformat->import-ipynb) (4.16.0)\n",
      "Requirement already satisfied: parso<0.9.0,>=0.8.0 in /Users/nikulnayi/opt/anaconda3/lib/python3.9/site-packages (from jedi>=0.16->IPython->import-ipynb) (0.8.3)\n",
      "Requirement already satisfied: pyrsistent!=0.17.0,!=0.17.1,!=0.17.2,>=0.14.0 in /Users/nikulnayi/opt/anaconda3/lib/python3.9/site-packages (from jsonschema>=2.6->nbformat->import-ipynb) (0.18.0)\n",
      "Requirement already satisfied: attrs>=17.4.0 in /Users/nikulnayi/opt/anaconda3/lib/python3.9/site-packages (from jsonschema>=2.6->nbformat->import-ipynb) (21.4.0)\n",
      "Requirement already satisfied: ptyprocess>=0.5 in /Users/nikulnayi/opt/anaconda3/lib/python3.9/site-packages (from pexpect>4.3->IPython->import-ipynb) (0.7.0)\n",
      "Requirement already satisfied: wcwidth in /Users/nikulnayi/opt/anaconda3/lib/python3.9/site-packages (from prompt-toolkit!=3.0.0,!=3.0.1,<3.1.0,>=2.0.0->IPython->import-ipynb) (0.2.5)\n",
      "importing Jupyter notebook from Preprocessing_function.ipynb\n"
     ]
    }
   ],
   "source": [
    "!pip install import-ipynb\n",
    "import import_ipynb\n",
    "import Preprocessing_function "
   ]
  },
  {
   "cell_type": "code",
   "execution_count": null,
   "id": "db3f410e",
   "metadata": {},
   "outputs": [],
   "source": []
  }
 ],
 "metadata": {
  "kernelspec": {
   "display_name": "Python 3 (ipykernel)",
   "language": "python",
   "name": "python3"
  },
  "language_info": {
   "codemirror_mode": {
    "name": "ipython",
    "version": 3
   },
   "file_extension": ".py",
   "mimetype": "text/x-python",
   "name": "python",
   "nbconvert_exporter": "python",
   "pygments_lexer": "ipython3",
   "version": "3.9.13"
  },
  "vscode": {
   "interpreter": {
    "hash": "1f7c1d7db85b32830ff0d55d734086d39ad7be3e9db2adfe068dfce6a42a57de"
   }
  }
 },
 "nbformat": 4,
 "nbformat_minor": 5
}
