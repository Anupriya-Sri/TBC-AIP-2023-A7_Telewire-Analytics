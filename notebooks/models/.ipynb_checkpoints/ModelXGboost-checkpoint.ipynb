{
 "cells": [
  {
   "cell_type": "code",
   "execution_count": 1,
   "id": "7acc3f11",
   "metadata": {},
   "outputs": [],
   "source": [
    "import numpy as np\n",
    "import pandas as pd\n",
    "import joblib\n",
    "from sklearn.metrics import confusion_matrix, classification_report,accuracy_score, recall_score\n",
    "from sklearn.model_selection import GridSearchCV, RepeatedStratifiedKFold\n",
    "from sklearn.pipeline import Pipeline\n",
    "from xgboost import XGBClassifier"
   ]
  },
  {
   "cell_type": "code",
   "execution_count": 5,
   "id": "a6f1ceda",
   "metadata": {},
   "outputs": [],
   "source": [
    "train_data = pd.read_csv('../../data/raw/train.csv',  encoding= 'unicode_escape')\n",
    "y_train = train_data[\"Unusual\"]                      #defining the labels\n",
    "X_train = train_data.drop([\"Unusual\"], axis=1)\n",
    "test_data = pd.read_csv('../../data/raw/test.csv',  encoding= 'unicode_escape')\n",
    "y_test = test_data[\"Unusual\"]                      #defining the labels\n",
    "X_test = test_data.drop([\"Unusual\"], axis=1)"
   ]
  },
  {
   "cell_type": "code",
   "execution_count": 6,
   "id": "73d90f96",
   "metadata": {},
   "outputs": [
    {
     "name": "stdout",
     "output_type": "stream",
     "text": [
      "0.9958289885297185\n"
     ]
    }
   ],
   "source": [
    "# Define the model pipeline\n",
    "model_pipeline = Pipeline([\n",
    "    ('preprocessing', joblib.load('../pipelines/PreprocessingPipeline.joblib')),\n",
    "    ('xgboost', XGBClassifier()),    \n",
    "])\n",
    "# Fit the model pipeline to the training data\n",
    "model_pipeline.fit(X_train, y_train)\n",
    "predict = model_pipeline.predict(X_test)\n",
    "print(recall_score(predict,y_test))"
   ]
  },
  {
   "cell_type": "code",
   "execution_count": null,
   "id": "acb162ae",
   "metadata": {},
   "outputs": [],
   "source": []
  }
 ],
 "metadata": {
  "kernelspec": {
   "display_name": "Python 3 (ipykernel)",
   "language": "python",
   "name": "python3"
  },
  "language_info": {
   "codemirror_mode": {
    "name": "ipython",
    "version": 3
   },
   "file_extension": ".py",
   "mimetype": "text/x-python",
   "name": "python",
   "nbconvert_exporter": "python",
   "pygments_lexer": "ipython3",
   "version": "3.9.13"
  },
  "vscode": {
   "interpreter": {
    "hash": "31f2aee4e71d21fbe5cf8b01ff0e069b9275f58929596ceb00d14d90e3e16cd6"
   }
  }
 },
 "nbformat": 4,
 "nbformat_minor": 5
}
