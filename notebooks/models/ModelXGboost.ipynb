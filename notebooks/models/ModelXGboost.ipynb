{
 "cells": [
  {
   "cell_type": "code",
   "execution_count": 17,
   "id": "7acc3f11",
   "metadata": {},
   "outputs": [],
   "source": [
    "import numpy as np\n",
    "import pandas as pd\n",
    "import joblib\n",
    "from sklearn.metrics import recall_score\n",
    "from sklearn.model_selection import GridSearchCV\n",
    "from sklearn.pipeline import Pipeline\n",
    "from xgboost import XGBClassifier\n",
    "from sklearn.model_selection import cross_val_score\n",
    "from sklearn.model_selection import KFold, StratifiedKFold\n",
    "from sklearn import set_config"
   ]
  },
  {
   "cell_type": "code",
   "execution_count": 18,
   "id": "a6f1ceda",
   "metadata": {},
   "outputs": [],
   "source": [
    "train_data = pd.read_csv('../../data/raw/train.csv',  encoding= 'unicode_escape')\n",
    "y_train = train_data[\"Unusual\"]                      #defining the labels\n",
    "X_train = train_data.drop([\"Unusual\"], axis=1)\n",
    "test_data = pd.read_csv('../../data/raw/test.csv',  encoding= 'unicode_escape')\n",
    "y_test = test_data[\"Unusual\"]                      #defining the labels\n",
    "X_test = test_data.drop([\"Unusual\"], axis=1)"
   ]
  },
  {
   "cell_type": "code",
   "execution_count": 19,
   "id": "73d90f96",
   "metadata": {},
   "outputs": [
    {
     "name": "stdout",
     "output_type": "stream",
     "text": [
      "Cross-Validation accuracy: 0.987 +/- 0.002\n"
     ]
    }
   ],
   "source": [
    "# Define the model pipeline\n",
    "model_pipeline = Pipeline([\n",
    "    ('preprocessing', joblib.load('../pipelines/PreprocessingPipeline.joblib')),\n",
    "    ('xgboost', XGBClassifier()),    \n",
    "]) \n",
    "\n",
    "# KFold cross-validation\n",
    "cv = StratifiedKFold(n_splits=5, shuffle=True, random_state=42)\n",
    "\n",
    "# Perform cross-validation\n",
    "scores = cross_val_score(model_pipeline, X_train, y_train, cv=cv)\n",
    "\n",
    "print(f'Cross-Validation accuracy: {round(scores.mean(),3)} +/- {round(scores.std(),3)}')"
   ]
  },
  {
   "cell_type": "code",
   "execution_count": 20,
   "id": "63ca5d69",
   "metadata": {},
   "outputs": [
    {
     "data": {
      "text/plain": [
       "0.9594775619557937"
      ]
     },
     "execution_count": 20,
     "metadata": {},
     "output_type": "execute_result"
    }
   ],
   "source": [
    "# without cross-validation\n",
    "\n",
    "#train the model\n",
    "model_pipeline.fit(X_train,y_train)\n",
    "\n",
    "# predict the vlaues\n",
    "pred = model_pipeline.predict(X_test)\n",
    "\n",
    "#recall\n",
    "recall_score(y_test,pred)"
   ]
  },
  {
   "cell_type": "code",
   "execution_count": 21,
   "id": "3de355d5",
   "metadata": {},
   "outputs": [
    {
     "data": {
      "text/plain": [
       "<bound method Pipeline.get_params of Pipeline(steps=[('preprocessing',\n",
       "                 ColumnTransformer(transformers=[('num',\n",
       "                                                  Pipeline(steps=[('imputer',\n",
       "                                                                   SimpleImputer(strategy='median')),\n",
       "                                                                  ('scaler',\n",
       "                                                                   StandardScaler())]),\n",
       "                                                  ['Unnamed: 0', 'PRBUsageUL',\n",
       "                                                   'PRBUsageDL', 'meanThr_DL',\n",
       "                                                   'meanThr_UL', 'maxThr_DL',\n",
       "                                                   'maxThr_UL', 'meanUE_DL',\n",
       "                                                   'meanUE_UL', 'maxUE_DL',\n",
       "                                                   'maxUE_UL']),\n",
       "                                                 ('cat',\n",
       "                                                  Pipeline(steps=[('encoder',\n",
       "                                                                   OneHotEncoder(ha...\n",
       "                               feature_types=None, gamma=None, gpu_id=None,\n",
       "                               grow_policy=None, importance_type=None,\n",
       "                               interaction_constraints=None, learning_rate=None,\n",
       "                               max_bin=None, max_cat_threshold=None,\n",
       "                               max_cat_to_onehot=None, max_delta_step=None,\n",
       "                               max_depth=None, max_leaves=None,\n",
       "                               min_child_weight=None, missing=nan,\n",
       "                               monotone_constraints=None, n_estimators=100,\n",
       "                               n_jobs=None, num_parallel_tree=None,\n",
       "                               predictor=None, random_state=None, ...))])>"
      ]
     },
     "execution_count": 21,
     "metadata": {},
     "output_type": "execute_result"
    }
   ],
   "source": [
    "model_pipeline.get_params"
   ]
  },
  {
   "cell_type": "code",
   "execution_count": 22,
   "id": "e1b75bc8",
   "metadata": {},
   "outputs": [
    {
     "data": {
      "text/html": [
       "<style>#sk-78ed2725-d924-4ba6-a138-eddf75154371 {color: black;background-color: white;}#sk-78ed2725-d924-4ba6-a138-eddf75154371 pre{padding: 0;}#sk-78ed2725-d924-4ba6-a138-eddf75154371 div.sk-toggleable {background-color: white;}#sk-78ed2725-d924-4ba6-a138-eddf75154371 label.sk-toggleable__label {cursor: pointer;display: block;width: 100%;margin-bottom: 0;padding: 0.3em;box-sizing: border-box;text-align: center;}#sk-78ed2725-d924-4ba6-a138-eddf75154371 label.sk-toggleable__label-arrow:before {content: \"▸\";float: left;margin-right: 0.25em;color: #696969;}#sk-78ed2725-d924-4ba6-a138-eddf75154371 label.sk-toggleable__label-arrow:hover:before {color: black;}#sk-78ed2725-d924-4ba6-a138-eddf75154371 div.sk-estimator:hover label.sk-toggleable__label-arrow:before {color: black;}#sk-78ed2725-d924-4ba6-a138-eddf75154371 div.sk-toggleable__content {max-height: 0;max-width: 0;overflow: hidden;text-align: left;background-color: #f0f8ff;}#sk-78ed2725-d924-4ba6-a138-eddf75154371 div.sk-toggleable__content pre {margin: 0.2em;color: black;border-radius: 0.25em;background-color: #f0f8ff;}#sk-78ed2725-d924-4ba6-a138-eddf75154371 input.sk-toggleable__control:checked~div.sk-toggleable__content {max-height: 200px;max-width: 100%;overflow: auto;}#sk-78ed2725-d924-4ba6-a138-eddf75154371 input.sk-toggleable__control:checked~label.sk-toggleable__label-arrow:before {content: \"▾\";}#sk-78ed2725-d924-4ba6-a138-eddf75154371 div.sk-estimator input.sk-toggleable__control:checked~label.sk-toggleable__label {background-color: #d4ebff;}#sk-78ed2725-d924-4ba6-a138-eddf75154371 div.sk-label input.sk-toggleable__control:checked~label.sk-toggleable__label {background-color: #d4ebff;}#sk-78ed2725-d924-4ba6-a138-eddf75154371 input.sk-hidden--visually {border: 0;clip: rect(1px 1px 1px 1px);clip: rect(1px, 1px, 1px, 1px);height: 1px;margin: -1px;overflow: hidden;padding: 0;position: absolute;width: 1px;}#sk-78ed2725-d924-4ba6-a138-eddf75154371 div.sk-estimator {font-family: monospace;background-color: #f0f8ff;border: 1px dotted black;border-radius: 0.25em;box-sizing: border-box;margin-bottom: 0.5em;}#sk-78ed2725-d924-4ba6-a138-eddf75154371 div.sk-estimator:hover {background-color: #d4ebff;}#sk-78ed2725-d924-4ba6-a138-eddf75154371 div.sk-parallel-item::after {content: \"\";width: 100%;border-bottom: 1px solid gray;flex-grow: 1;}#sk-78ed2725-d924-4ba6-a138-eddf75154371 div.sk-label:hover label.sk-toggleable__label {background-color: #d4ebff;}#sk-78ed2725-d924-4ba6-a138-eddf75154371 div.sk-serial::before {content: \"\";position: absolute;border-left: 1px solid gray;box-sizing: border-box;top: 2em;bottom: 0;left: 50%;}#sk-78ed2725-d924-4ba6-a138-eddf75154371 div.sk-serial {display: flex;flex-direction: column;align-items: center;background-color: white;padding-right: 0.2em;padding-left: 0.2em;}#sk-78ed2725-d924-4ba6-a138-eddf75154371 div.sk-item {z-index: 1;}#sk-78ed2725-d924-4ba6-a138-eddf75154371 div.sk-parallel {display: flex;align-items: stretch;justify-content: center;background-color: white;}#sk-78ed2725-d924-4ba6-a138-eddf75154371 div.sk-parallel::before {content: \"\";position: absolute;border-left: 1px solid gray;box-sizing: border-box;top: 2em;bottom: 0;left: 50%;}#sk-78ed2725-d924-4ba6-a138-eddf75154371 div.sk-parallel-item {display: flex;flex-direction: column;position: relative;background-color: white;}#sk-78ed2725-d924-4ba6-a138-eddf75154371 div.sk-parallel-item:first-child::after {align-self: flex-end;width: 50%;}#sk-78ed2725-d924-4ba6-a138-eddf75154371 div.sk-parallel-item:last-child::after {align-self: flex-start;width: 50%;}#sk-78ed2725-d924-4ba6-a138-eddf75154371 div.sk-parallel-item:only-child::after {width: 0;}#sk-78ed2725-d924-4ba6-a138-eddf75154371 div.sk-dashed-wrapped {border: 1px dashed gray;margin: 0 0.4em 0.5em 0.4em;box-sizing: border-box;padding-bottom: 0.4em;background-color: white;position: relative;}#sk-78ed2725-d924-4ba6-a138-eddf75154371 div.sk-label label {font-family: monospace;font-weight: bold;background-color: white;display: inline-block;line-height: 1.2em;}#sk-78ed2725-d924-4ba6-a138-eddf75154371 div.sk-label-container {position: relative;z-index: 2;text-align: center;}#sk-78ed2725-d924-4ba6-a138-eddf75154371 div.sk-container {/* jupyter's `normalize.less` sets `[hidden] { display: none; }` but bootstrap.min.css set `[hidden] { display: none !important; }` so we also need the `!important` here to be able to override the default hidden behavior on the sphinx rendered scikit-learn.org. See: https://github.com/scikit-learn/scikit-learn/issues/21755 */display: inline-block !important;position: relative;}#sk-78ed2725-d924-4ba6-a138-eddf75154371 div.sk-text-repr-fallback {display: none;}</style><div id=\"sk-78ed2725-d924-4ba6-a138-eddf75154371\" class=\"sk-top-container\"><div class=\"sk-text-repr-fallback\"><pre>Pipeline(steps=[(&#x27;preprocessing&#x27;,\n",
       "                 ColumnTransformer(transformers=[(&#x27;num&#x27;,\n",
       "                                                  Pipeline(steps=[(&#x27;imputer&#x27;,\n",
       "                                                                   SimpleImputer(strategy=&#x27;median&#x27;)),\n",
       "                                                                  (&#x27;scaler&#x27;,\n",
       "                                                                   StandardScaler())]),\n",
       "                                                  [&#x27;Unnamed: 0&#x27;, &#x27;PRBUsageUL&#x27;,\n",
       "                                                   &#x27;PRBUsageDL&#x27;, &#x27;meanThr_DL&#x27;,\n",
       "                                                   &#x27;meanThr_UL&#x27;, &#x27;maxThr_DL&#x27;,\n",
       "                                                   &#x27;maxThr_UL&#x27;, &#x27;meanUE_DL&#x27;,\n",
       "                                                   &#x27;meanUE_UL&#x27;, &#x27;maxUE_DL&#x27;,\n",
       "                                                   &#x27;maxUE_UL&#x27;]),\n",
       "                                                 (&#x27;cat&#x27;,\n",
       "                                                  Pipeline(steps=[(&#x27;encoder&#x27;,\n",
       "                                                                   OneHotEncoder(ha...\n",
       "                               feature_types=None, gamma=None, gpu_id=None,\n",
       "                               grow_policy=None, importance_type=None,\n",
       "                               interaction_constraints=None, learning_rate=None,\n",
       "                               max_bin=None, max_cat_threshold=None,\n",
       "                               max_cat_to_onehot=None, max_delta_step=None,\n",
       "                               max_depth=None, max_leaves=None,\n",
       "                               min_child_weight=None, missing=nan,\n",
       "                               monotone_constraints=None, n_estimators=100,\n",
       "                               n_jobs=None, num_parallel_tree=None,\n",
       "                               predictor=None, random_state=None, ...))])</pre><b>Please rerun this cell to show the HTML repr or trust the notebook.</b></div><div class=\"sk-container\" hidden><div class=\"sk-item sk-dashed-wrapped\"><div class=\"sk-label-container\"><div class=\"sk-label sk-toggleable\"><input class=\"sk-toggleable__control sk-hidden--visually\" id=\"8406470a-7d63-40d4-a9e1-d82585888c0e\" type=\"checkbox\" ><label for=\"8406470a-7d63-40d4-a9e1-d82585888c0e\" class=\"sk-toggleable__label sk-toggleable__label-arrow\">Pipeline</label><div class=\"sk-toggleable__content\"><pre>Pipeline(steps=[(&#x27;preprocessing&#x27;,\n",
       "                 ColumnTransformer(transformers=[(&#x27;num&#x27;,\n",
       "                                                  Pipeline(steps=[(&#x27;imputer&#x27;,\n",
       "                                                                   SimpleImputer(strategy=&#x27;median&#x27;)),\n",
       "                                                                  (&#x27;scaler&#x27;,\n",
       "                                                                   StandardScaler())]),\n",
       "                                                  [&#x27;Unnamed: 0&#x27;, &#x27;PRBUsageUL&#x27;,\n",
       "                                                   &#x27;PRBUsageDL&#x27;, &#x27;meanThr_DL&#x27;,\n",
       "                                                   &#x27;meanThr_UL&#x27;, &#x27;maxThr_DL&#x27;,\n",
       "                                                   &#x27;maxThr_UL&#x27;, &#x27;meanUE_DL&#x27;,\n",
       "                                                   &#x27;meanUE_UL&#x27;, &#x27;maxUE_DL&#x27;,\n",
       "                                                   &#x27;maxUE_UL&#x27;]),\n",
       "                                                 (&#x27;cat&#x27;,\n",
       "                                                  Pipeline(steps=[(&#x27;encoder&#x27;,\n",
       "                                                                   OneHotEncoder(ha...\n",
       "                               feature_types=None, gamma=None, gpu_id=None,\n",
       "                               grow_policy=None, importance_type=None,\n",
       "                               interaction_constraints=None, learning_rate=None,\n",
       "                               max_bin=None, max_cat_threshold=None,\n",
       "                               max_cat_to_onehot=None, max_delta_step=None,\n",
       "                               max_depth=None, max_leaves=None,\n",
       "                               min_child_weight=None, missing=nan,\n",
       "                               monotone_constraints=None, n_estimators=100,\n",
       "                               n_jobs=None, num_parallel_tree=None,\n",
       "                               predictor=None, random_state=None, ...))])</pre></div></div></div><div class=\"sk-serial\"><div class=\"sk-item sk-dashed-wrapped\"><div class=\"sk-label-container\"><div class=\"sk-label sk-toggleable\"><input class=\"sk-toggleable__control sk-hidden--visually\" id=\"1fb4cb06-6daa-488a-a7a7-98006a9eda85\" type=\"checkbox\" ><label for=\"1fb4cb06-6daa-488a-a7a7-98006a9eda85\" class=\"sk-toggleable__label sk-toggleable__label-arrow\">preprocessing: ColumnTransformer</label><div class=\"sk-toggleable__content\"><pre>ColumnTransformer(transformers=[(&#x27;num&#x27;,\n",
       "                                 Pipeline(steps=[(&#x27;imputer&#x27;,\n",
       "                                                  SimpleImputer(strategy=&#x27;median&#x27;)),\n",
       "                                                 (&#x27;scaler&#x27;, StandardScaler())]),\n",
       "                                 [&#x27;Unnamed: 0&#x27;, &#x27;PRBUsageUL&#x27;, &#x27;PRBUsageDL&#x27;,\n",
       "                                  &#x27;meanThr_DL&#x27;, &#x27;meanThr_UL&#x27;, &#x27;maxThr_DL&#x27;,\n",
       "                                  &#x27;maxThr_UL&#x27;, &#x27;meanUE_DL&#x27;, &#x27;meanUE_UL&#x27;,\n",
       "                                  &#x27;maxUE_DL&#x27;, &#x27;maxUE_UL&#x27;]),\n",
       "                                (&#x27;cat&#x27;,\n",
       "                                 Pipeline(steps=[(&#x27;encoder&#x27;,\n",
       "                                                  OneHotEncoder(handle_unknown=&#x27;ignore&#x27;))]),\n",
       "                                 [&#x27;CellName&#x27;])])</pre></div></div></div><div class=\"sk-parallel\"><div class=\"sk-parallel-item\"><div class=\"sk-item\"><div class=\"sk-label-container\"><div class=\"sk-label sk-toggleable\"><input class=\"sk-toggleable__control sk-hidden--visually\" id=\"c77e1e6c-1ae6-4bc1-8124-76d58933c2f9\" type=\"checkbox\" ><label for=\"c77e1e6c-1ae6-4bc1-8124-76d58933c2f9\" class=\"sk-toggleable__label sk-toggleable__label-arrow\">num</label><div class=\"sk-toggleable__content\"><pre>[&#x27;Unnamed: 0&#x27;, &#x27;PRBUsageUL&#x27;, &#x27;PRBUsageDL&#x27;, &#x27;meanThr_DL&#x27;, &#x27;meanThr_UL&#x27;, &#x27;maxThr_DL&#x27;, &#x27;maxThr_UL&#x27;, &#x27;meanUE_DL&#x27;, &#x27;meanUE_UL&#x27;, &#x27;maxUE_DL&#x27;, &#x27;maxUE_UL&#x27;]</pre></div></div></div><div class=\"sk-serial\"><div class=\"sk-item\"><div class=\"sk-serial\"><div class=\"sk-item\"><div class=\"sk-estimator sk-toggleable\"><input class=\"sk-toggleable__control sk-hidden--visually\" id=\"c831ea2b-38e9-4f77-8dc8-f17adcbf7fbc\" type=\"checkbox\" ><label for=\"c831ea2b-38e9-4f77-8dc8-f17adcbf7fbc\" class=\"sk-toggleable__label sk-toggleable__label-arrow\">SimpleImputer</label><div class=\"sk-toggleable__content\"><pre>SimpleImputer(strategy=&#x27;median&#x27;)</pre></div></div></div><div class=\"sk-item\"><div class=\"sk-estimator sk-toggleable\"><input class=\"sk-toggleable__control sk-hidden--visually\" id=\"0e2cdb7d-9139-4cdd-b4b1-4ae852f2a670\" type=\"checkbox\" ><label for=\"0e2cdb7d-9139-4cdd-b4b1-4ae852f2a670\" class=\"sk-toggleable__label sk-toggleable__label-arrow\">StandardScaler</label><div class=\"sk-toggleable__content\"><pre>StandardScaler()</pre></div></div></div></div></div></div></div></div><div class=\"sk-parallel-item\"><div class=\"sk-item\"><div class=\"sk-label-container\"><div class=\"sk-label sk-toggleable\"><input class=\"sk-toggleable__control sk-hidden--visually\" id=\"5c8ce453-0a68-46c8-b60b-71ff7f354401\" type=\"checkbox\" ><label for=\"5c8ce453-0a68-46c8-b60b-71ff7f354401\" class=\"sk-toggleable__label sk-toggleable__label-arrow\">cat</label><div class=\"sk-toggleable__content\"><pre>[&#x27;CellName&#x27;]</pre></div></div></div><div class=\"sk-serial\"><div class=\"sk-item\"><div class=\"sk-serial\"><div class=\"sk-item\"><div class=\"sk-estimator sk-toggleable\"><input class=\"sk-toggleable__control sk-hidden--visually\" id=\"fc817632-d27c-491d-ba28-ea1f2b2805a0\" type=\"checkbox\" ><label for=\"fc817632-d27c-491d-ba28-ea1f2b2805a0\" class=\"sk-toggleable__label sk-toggleable__label-arrow\">OneHotEncoder</label><div class=\"sk-toggleable__content\"><pre>OneHotEncoder(handle_unknown=&#x27;ignore&#x27;)</pre></div></div></div></div></div></div></div></div></div></div><div class=\"sk-item\"><div class=\"sk-estimator sk-toggleable\"><input class=\"sk-toggleable__control sk-hidden--visually\" id=\"122dcadf-ef07-4dc4-8a16-9335cbf38d20\" type=\"checkbox\" ><label for=\"122dcadf-ef07-4dc4-8a16-9335cbf38d20\" class=\"sk-toggleable__label sk-toggleable__label-arrow\">XGBClassifier</label><div class=\"sk-toggleable__content\"><pre>XGBClassifier(base_score=None, booster=None, callbacks=None,\n",
       "              colsample_bylevel=None, colsample_bynode=None,\n",
       "              colsample_bytree=None, early_stopping_rounds=None,\n",
       "              enable_categorical=False, eval_metric=None, feature_types=None,\n",
       "              gamma=None, gpu_id=None, grow_policy=None, importance_type=None,\n",
       "              interaction_constraints=None, learning_rate=None, max_bin=None,\n",
       "              max_cat_threshold=None, max_cat_to_onehot=None,\n",
       "              max_delta_step=None, max_depth=None, max_leaves=None,\n",
       "              min_child_weight=None, missing=nan, monotone_constraints=None,\n",
       "              n_estimators=100, n_jobs=None, num_parallel_tree=None,\n",
       "              predictor=None, random_state=None, ...)</pre></div></div></div></div></div></div></div>"
      ],
      "text/plain": [
       "Pipeline(steps=[('preprocessing',\n",
       "                 ColumnTransformer(transformers=[('num',\n",
       "                                                  Pipeline(steps=[('imputer',\n",
       "                                                                   SimpleImputer(strategy='median')),\n",
       "                                                                  ('scaler',\n",
       "                                                                   StandardScaler())]),\n",
       "                                                  ['Unnamed: 0', 'PRBUsageUL',\n",
       "                                                   'PRBUsageDL', 'meanThr_DL',\n",
       "                                                   'meanThr_UL', 'maxThr_DL',\n",
       "                                                   'maxThr_UL', 'meanUE_DL',\n",
       "                                                   'meanUE_UL', 'maxUE_DL',\n",
       "                                                   'maxUE_UL']),\n",
       "                                                 ('cat',\n",
       "                                                  Pipeline(steps=[('encoder',\n",
       "                                                                   OneHotEncoder(ha...\n",
       "                               feature_types=None, gamma=None, gpu_id=None,\n",
       "                               grow_policy=None, importance_type=None,\n",
       "                               interaction_constraints=None, learning_rate=None,\n",
       "                               max_bin=None, max_cat_threshold=None,\n",
       "                               max_cat_to_onehot=None, max_delta_step=None,\n",
       "                               max_depth=None, max_leaves=None,\n",
       "                               min_child_weight=None, missing=nan,\n",
       "                               monotone_constraints=None, n_estimators=100,\n",
       "                               n_jobs=None, num_parallel_tree=None,\n",
       "                               predictor=None, random_state=None, ...))])"
      ]
     },
     "execution_count": 22,
     "metadata": {},
     "output_type": "execute_result"
    }
   ],
   "source": [
    "set_config(display=\"diagram\")\n",
    "model_pipeline"
   ]
  },
  {
   "cell_type": "code",
   "execution_count": null,
   "id": "59fdce46",
   "metadata": {},
   "outputs": [],
   "source": []
  }
 ],
 "metadata": {
  "kernelspec": {
   "display_name": "Python 3 (ipykernel)",
   "language": "python",
   "name": "python3"
  },
  "language_info": {
   "codemirror_mode": {
    "name": "ipython",
    "version": 3
   },
   "file_extension": ".py",
   "mimetype": "text/x-python",
   "name": "python",
   "nbconvert_exporter": "python",
   "pygments_lexer": "ipython3",
   "version": "3.9.13"
  },
  "vscode": {
   "interpreter": {
    "hash": "1f7c1d7db85b32830ff0d55d734086d39ad7be3e9db2adfe068dfce6a42a57de"
   }
  }
 },
 "nbformat": 4,
 "nbformat_minor": 5
}
