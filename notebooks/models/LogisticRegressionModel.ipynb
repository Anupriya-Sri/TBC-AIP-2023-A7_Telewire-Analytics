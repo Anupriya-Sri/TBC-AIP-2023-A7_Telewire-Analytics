{
 "cells": [
  {
   "cell_type": "code",
   "execution_count": 1,
   "metadata": {},
   "outputs": [
    {
     "name": "stdout",
     "output_type": "stream",
     "text": [
      "/Users/nikulnayi/Documents/AIP/Telewire/TBC-AIP-2023-A7_Telewire-Analytics/notebooks/utils/split_data.py\n"
     ]
    }
   ],
   "source": [
    "import pandas as pd\n",
    "import numpy as np\n",
    "import joblib\n",
    "from sklearn.linear_model import LogisticRegression\n",
    "from sklearn.metrics import recall_score\n",
    "from sklearn.pipeline import Pipeline\n",
    "from sklearn.preprocessing import StandardScaler, OneHotEncoder, LabelEncoder\n",
    "from sklearn.impute import SimpleImputer\n",
    "from sklearn.metrics import confusion_matrix, classification_report,accuracy_score, recall_score\n",
    "import matplotlib.pyplot as plt\n",
    "import dill\n",
    "import sys\n",
    "import seaborn as sns\n",
    "# import the pipeline file\n",
    "sys.path.insert(0,'../')\n",
    "from utils import split_data"
   ]
  },
  {
   "cell_type": "code",
   "execution_count": 2,
   "metadata": {},
   "outputs": [
    {
     "name": "stdout",
     "output_type": "stream",
     "text": [
      "<class 'pandas.core.frame.DataFrame'>\n",
      "RangeIndex: 25832 entries, 0 to 25831\n",
      "Data columns (total 13 columns):\n",
      " #   Column       Non-Null Count  Dtype  \n",
      "---  ------       --------------  -----  \n",
      " 0   Time         25832 non-null  object \n",
      " 1   CellName     25832 non-null  object \n",
      " 2   PRBUsageUL   25832 non-null  float64\n",
      " 3   PRBUsageDL   25832 non-null  float64\n",
      " 4   meanThr_DL   25832 non-null  float64\n",
      " 5   meanThr_UL   25832 non-null  float64\n",
      " 6   maxThr_DL    25832 non-null  float64\n",
      " 7   maxThr_UL    25832 non-null  float64\n",
      " 8   meanUE_DL    25832 non-null  float64\n",
      " 9   meanUE_UL    25832 non-null  float64\n",
      " 10  maxUE_DL     25773 non-null  float64\n",
      " 11  maxUE_UL     25773 non-null  float64\n",
      " 12  maxUE_UL+DL  25828 non-null  object \n",
      "dtypes: float64(10), object(3)\n",
      "memory usage: 2.6+ MB\n"
     ]
    }
   ],
   "source": [
    "X_train,y_train = split_data.get_train_data()\n",
    "X_test,y_test = split_data.get_test_data()\n",
    "X_train.info()"
   ]
  },
  {
   "cell_type": "code",
   "execution_count": 3,
   "metadata": {},
   "outputs": [
    {
     "name": "stdout",
     "output_type": "stream",
     "text": [
      "Pipeline(steps=[('SetNull', NullEncoder()),\n",
      "                ('TimeConversion', TimeConversation()),\n",
      "                ('ObjectToFloat', ObjectToFloat()), ('Scaling', Scaling()),\n",
      "                ('OneHotEncoding',\n",
      "                 OneHotEncoding(categories=array(['10ALTE', '10BLTE', '10CLTE', '1ALTE', '1BLTE', '1CLTE', '2ALTE',\n",
      "       '3ALTE', '3BLTE', '3CLTE', '4ALTE', '4BLTE', '4CLTE', '5ALTE',\n",
      "       '5BLTE', '5CLTE', '6ALTE', '6BLTE', '6CLTE', '6ULTE', '6VLTE',\n",
      "       '6WLTE', '7ALTE', '7BLTE', '7CLTE', '7ULTE', '7VLTE', '7WLTE',\n",
      "       '8ALTE', '8BLTE', '8CLTE', '9ALTE', '9BLTE'], dtype=object)))])\n"
     ]
    }
   ],
   "source": [
    "with open('../pipelines/PreprocessingPipeline2.0.pkl', 'rb') as f:\n",
    "    pipeline,categories = dill.load(f)\n",
    "print(pipeline)"
   ]
  },
  {
   "cell_type": "code",
   "execution_count": 6,
   "metadata": {},
   "outputs": [
    {
     "name": "stdout",
     "output_type": "stream",
     "text": [
      "0.28110599078341014\n"
     ]
    },
    {
     "data": {
      "image/png": "[encoded data removed]",
      "text/plain": [
       "<Figure size 640x480 with 2 Axes>"
      ]
     },
     "metadata": {},
     "output_type": "display_data"
    }
   ],
   "source": [
    "logistic = Pipeline([\n",
    "    ('imputer', SimpleImputer(strategy='mean')),\n",
    "    ('logistic', LogisticRegression()),\n",
    "])\n",
    "#logistic.fit(pipeline.transform(X_train), y_train)\n",
    "# model.fit(pipeline.fit_transform(X_train), y_train)\n",
    "ModelPipeline  = Pipeline([\n",
    "    \n",
    "    ('preprocessing', pipeline),\n",
    "    ('model',logistic)\n",
    "])\n",
    "ModelPipeline.fit(X_train, y_train)\n",
    "predict = ModelPipeline.predict(X_test)\n",
    "print(recall_score(predict,y_test))\n",
    "cm = confusion_matrix(y_test, predict)\n",
    "# Visualize the confusion matrix using a heatmap\n",
    "sns.heatmap(cm, annot=True, cmap='Blues', fmt='g')\n",
    "plt.xlabel('Predicted label')\n",
    "plt.ylabel('True label')\n",
    "plt.title('Confusion Matrix')\n",
    "plt.show()"
   ]
  },
  {
   "cell_type": "code",
   "execution_count": 7,
   "metadata": {},
   "outputs": [],
   "source": [
    "with open('../../models/LogisticRegression.pkl', 'wb') as f:\n",
    "    dill.dump(logistic, f)"
   ]
  },
  {
   "cell_type": "code",
   "execution_count": null,
   "metadata": {},
   "outputs": [],
   "source": []
  }
 ],
 "metadata": {
  "kernelspec": {
   "display_name": "Python 3 (ipykernel)",
   "language": "python",
   "name": "python3"
  },
  "language_info": {
   "codemirror_mode": {
    "name": "ipython",
    "version": 3
   },
   "file_extension": ".py",
   "mimetype": "text/x-python",
   "name": "python",
   "nbconvert_exporter": "python",
   "pygments_lexer": "ipython3",
   "version": "3.9.13"
  },
  "vscode": {
   "interpreter": {
    "hash": "1f7c1d7db85b32830ff0d55d734086d39ad7be3e9db2adfe068dfce6a42a57de"
   }
  }
 },
 "nbformat": 4,
 "nbformat_minor": 2
}
