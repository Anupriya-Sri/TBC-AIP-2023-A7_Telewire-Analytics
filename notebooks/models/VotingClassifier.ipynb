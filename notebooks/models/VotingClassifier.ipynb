{
 "cells": [
  {
   "cell_type": "code",
   "execution_count": 1,
   "metadata": {},
   "outputs": [],
   "source": [
    "import pandas as pd\n",
    "import joblib\n",
    "from sklearn.ensemble import RandomForestClassifier, VotingClassifier\n",
    "from sklearn.metrics import recall_score\n",
    "from sklearn.linear_model import LogisticRegression\n",
    "from sklearn.svm import SVC\n",
    "from sklearn.tree import DecisionTreeClassifier\n",
    "from sklearn.pipeline import Pipeline"
   ]
  },
  {
   "cell_type": "code",
   "execution_count": 2,
   "metadata": {},
   "outputs": [],
   "source": [
    "train_data = pd.read_csv('../../data/raw/train.csv',  encoding= 'unicode_escape')\n",
    "y_train = train_data[\"Unusual\"]                      #defining the labels\n",
    "X_train = train_data.drop([\"Unusual\"], axis=1)\n",
    "test_data = pd.read_csv('../../data/raw/test.csv',  encoding= 'unicode_escape')\n",
    "y_test = test_data[\"Unusual\"]                      #defining the labels\n",
    "X_test = test_data.drop([\"Unusual\"], axis=1)"
   ]
  },
  {
   "cell_type": "code",
   "execution_count": 6,
   "metadata": {},
   "outputs": [],
   "source": [
    "# group / ensemble of models\n",
    "estimator = []\n",
    "estimator.append(('LR', LogisticRegression()))\n",
    "estimator.append(('SVC', SVC()))\n",
    "estimator.append(('DTC', DecisionTreeClassifier()))\n",
    "estimator.append(('RFC', RandomForestClassifier()))"
   ]
  },
  {
   "cell_type": "code",
   "execution_count": 10,
   "metadata": {},
   "outputs": [],
   "source": [
    "\n",
    "# Define the model pipeline\n",
    "model_pipeline = Pipeline([\n",
    "    # Preprocessing Pipeline\n",
    "    ('preprocessing', joblib.load('../pipelines/PreprocessingPipeline.joblib')),\n",
    "    # model\n",
    "    ('voting_classifier',VotingClassifier(estimators = estimator, voting ='hard'))     \n",
    "])\n",
    "# train the model\n",
    "model_pipeline.fit(X_train, y_train)\n",
    "\n",
    "# predict the values\n",
    "y_pred = model_pipeline.predict(X_test)"
   ]
  },
  {
   "cell_type": "code",
   "execution_count": 11,
   "metadata": {},
   "outputs": [
    {
     "data": {
      "text/plain": [
       "0.07367716008037509"
      ]
     },
     "execution_count": 11,
     "metadata": {},
     "output_type": "execute_result"
    }
   ],
   "source": [
    "recall_score(y_test,y_pred)"
   ]
  },
  {
   "cell_type": "code",
   "execution_count": null,
   "metadata": {},
   "outputs": [],
   "source": []
  }
 ],
 "metadata": {
  "kernelspec": {
   "display_name": "Python 3 (ipykernel)",
   "language": "python",
   "name": "python3"
  },
  "language_info": {
   "codemirror_mode": {
    "name": "ipython",
    "version": 3
   },
   "file_extension": ".py",
   "mimetype": "text/x-python",
   "name": "python",
   "nbconvert_exporter": "python",
   "pygments_lexer": "ipython3",
   "version": "3.10.1"
  },
  "vscode": {
   "interpreter": {
    "hash": "1f7c1d7db85b32830ff0d55d734086d39ad7be3e9db2adfe068dfce6a42a57de"
   }
  }
 },
 "nbformat": 4,
 "nbformat_minor": 2
}
