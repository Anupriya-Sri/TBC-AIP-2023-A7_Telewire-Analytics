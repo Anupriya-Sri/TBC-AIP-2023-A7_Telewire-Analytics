{
 "cells": [
  {
   "cell_type": "code",
   "execution_count": 9,
   "id": "debae48d",
   "metadata": {},
   "outputs": [
    {
     "name": "stdout",
     "output_type": "stream",
     "text": [
      "   PRBUsageUL  PRBUsageDL  meanThr_DL  meanThr_UL  maxThr_DL  maxThr_UL  \\\n",
      "0   -0.508514   -0.600057   -0.578180   -0.312958  -0.859869  -0.336991   \n",
      "1    0.890905   -0.126799   -0.143387   -0.164438   4.092402  -0.247529   \n",
      "2   -0.532630   -0.552778   -0.156051   -0.204424   0.851624  -0.189947   \n",
      "3   -0.605096    1.434343    0.319549    0.098328   0.125968  -0.078568   \n",
      "4   -0.629212    1.623459    1.937714    0.275410   1.261197  -0.109451   \n",
      "\n",
      "   meanUE_DL  meanUE_UL  maxUE_DL  maxUE_UL  ...   23   24   25   26   27  \\\n",
      "0  -0.602636   0.663458 -0.669510 -0.765168  ...  0.0  0.0  0.0  0.0  0.0   \n",
      "1  -0.016615   0.833517  0.457255  0.676191  ...  0.0  0.0  0.0  0.0  0.0   \n",
      "2  -0.505773  -1.225877 -0.669510 -0.765168  ...  0.0  0.0  0.0  0.0  0.0   \n",
      "3   0.961702  -1.225877  1.020637  0.676191  ...  0.0  0.0  0.0  0.0  1.0   \n",
      "4   1.305565  -1.225877  1.020637  0.676191  ...  0.0  0.0  0.0  0.0  0.0   \n",
      "\n",
      "    28   29   30   31   32  \n",
      "0  0.0  0.0  0.0  1.0  0.0  \n",
      "1  0.0  0.0  0.0  0.0  0.0  \n",
      "2  0.0  0.0  0.0  0.0  0.0  \n",
      "3  0.0  0.0  0.0  0.0  0.0  \n",
      "4  0.0  0.0  0.0  0.0  0.0  \n",
      "\n",
      "[5 rows x 47 columns]\n"
     ]
    }
   ],
   "source": [
    "import pandas as pd\n",
    "from sklearn.preprocessing import OneHotEncoder, StandardScaler\n",
    "from sklearn.impute import SimpleImputer\n",
    "def load_data(filename):\n",
    "    # Load the raw data from a CSV file\n",
    "    data = pd.read_csv('../data/raw' + filename)\n",
    "    return data\n",
    "\n",
    "def clean_data(data):\n",
    "    # Remove any rows with missing values\n",
    "    data = data.dropna()\n",
    "    data = data.drop(['Unnamed: 0'],axis=1)\n",
    "    return data\n",
    "\n",
    "def encode_categorical(data):\n",
    "\n",
    "    # Encode categorical variables as binary features\n",
    "    encoder = OneHotEncoder()\n",
    "    enc_df = pd.DataFrame(encoder.fit_transform(data[['CellName']]).toarray())\n",
    "\n",
    "    # merge with main df bridge_df on key values\n",
    "    data = data.join(enc_df)\n",
    "    return data\n",
    "\n",
    "def scale_numerical(data):\n",
    "    \n",
    "    # split Time columns into hour and minute formate\n",
    "    data[['Hour', 'Minute']] = data['Time'].str.split(':', 1, expand=True)\n",
    "    data.drop(['Time'],axis=1,inplace=True)\n",
    "    data['Hour'] = pd.to_numeric(data['Hour'],errors='coerce')\n",
    "    data['Minute'] = pd.to_numeric(data['Minute'], errors='coerce')\n",
    "    data['maxUE_UL+DL'] = pd.to_numeric(data['maxUE_UL+DL'],errors='coerce')\n",
    "\n",
    "    # Scale numerical features to have zero mean and unit variance\n",
    "    numeric_features = data.drop(['CellName','Unusual'],axis =1).columns.to_list()\n",
    "    scaler = StandardScaler()\n",
    "    scaled = scaler.fit_transform(data[numeric_features])\n",
    "    data[numeric_features] = scaled\n",
    "    return data\n",
    "#return instead of save \n",
    "\n",
    "def save_data(data, filename):\n",
    "    \n",
    "    # Save the preprocessed data to a CSV file\n",
    "    data.to_csv(filename, index=False)\n",
    "    return data\n",
    "if __name__ == '__main__':\n",
    "    # Load the raw data\n",
    "    data = load_data('/train.csv')\n",
    "\n",
    "    # Clean the data\n",
    "    data = clean_data(data)\n",
    "    \n",
    "    # Scale numerical features\n",
    "    data = scale_numerical(data)\n",
    "\n",
    "    # Encode categorical variables\n",
    "    data = encode_categorical(data)\n",
    "\n",
    "    # Getting the numerical data for model\n",
    "    data = data.select_dtypes(['number'])\n",
    "\n",
    "\n"
   ]
  }
 ],
 "metadata": {
  "kernelspec": {
   "display_name": "Python 3",
   "language": "python",
   "name": "python3"
  },
  "language_info": {
   "codemirror_mode": {
    "name": "ipython",
    "version": 3
   },
   "file_extension": ".py",
   "mimetype": "text/x-python",
   "name": "python",
   "nbconvert_exporter": "python",
   "pygments_lexer": "ipython3",
   "version": "3.10.1"
  },
  "vscode": {
   "interpreter": {
    "hash": "1f7c1d7db85b32830ff0d55d734086d39ad7be3e9db2adfe068dfce6a42a57de"
   }
  }
 },
 "nbformat": 4,
 "nbformat_minor": 5
}
