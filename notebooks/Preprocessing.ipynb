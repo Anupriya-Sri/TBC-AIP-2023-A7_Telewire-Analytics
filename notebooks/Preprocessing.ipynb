{
 "cells": [
  {
   "cell_type": "code",
   "execution_count": 43,
   "id": "2705fbff",
   "metadata": {},
   "outputs": [],
   "source": [
    "import numpy as np\n",
    "import matplotlib.pyplot as plt\n",
    "import pandas as pd\n",
    "from sklearn.model_selection import train_test_split\n",
    "from sklearn.pipeline import Pipeline\n",
    "from sklearn.impute import SimpleImputer\n",
    "from sklearn.preprocessing import StandardScaler, OneHotEncoder\n",
    "from sklearn.compose import ColumnTransformer\n",
    "from sklearn.feature_selection import SelectPercentile, chi2\n",
    "import joblib\n"
   ]
  },
  {
   "cell_type": "code",
   "execution_count": 35,
   "id": "0a971910",
   "metadata": {},
   "outputs": [],
   "source": [
    "from sklearn.model_selection import train_test_split\n",
    "import numpy as np\n",
    "import pandas as pd\n",
    "data = pd.read_csv('../data/raw/data.csv',  encoding= 'unicode_escape')\n",
    "y = data[\"Unusual\"]                      #defining the labels\n",
    "X = data.drop([\"Unusual\"], axis=1)\n",
    "X_train, X_test, y_train, y_test = train_test_split(X, y, test_size=0.33, random_state=42)"
   ]
  },
  {
   "cell_type": "code",
   "execution_count": 37,
   "id": "0bb1ae7d",
   "metadata": {},
   "outputs": [],
   "source": [
    "numeric_features = X_train.select_dtypes(exclude=['object']).columns.tolist()\n",
    "\n",
    "numeric_transformer = Pipeline(\n",
    "    steps=[(\"imputer\", SimpleImputer(strategy=\"median\")), (\"scaler\", StandardScaler())]\n",
    ")"
   ]
  },
  {
   "cell_type": "code",
   "execution_count": 36,
   "id": "31ad61b3",
   "metadata": {},
   "outputs": [],
   "source": [
    "# Define custom transformers\n",
    "class CustomTransformer:\n",
    "    def __init__(self, parameter):\n",
    "        self.parameter = parameter\n",
    "    \n",
    "    def fit(self, X, y=None):\n",
    "        return self\n",
    "    \n",
    "    def transform(self, X):\n",
    "        # perform custom transformation\n",
    "        return X"
   ]
  },
  {
   "cell_type": "code",
   "execution_count": 38,
   "id": "cbeed5d5",
   "metadata": {},
   "outputs": [],
   "source": [
    "categorical_features = ['CellName']\n",
    "categorical_transformer = Pipeline(\n",
    "    steps=[\n",
    "        (\"encoder\", OneHotEncoder(handle_unknown=\"ignore\"))\n",
    "    ]\n",
    ")"
   ]
  },
  {
   "cell_type": "code",
   "execution_count": 39,
   "id": "68705ea0",
   "metadata": {},
   "outputs": [],
   "source": [
    "preprocessor = ColumnTransformer(\n",
    "    transformers=[\n",
    "        (\"num\", numeric_transformer, numeric_features),\n",
    "        (\"cat\", categorical_transformer, categorical_features),\n",
    "    ]\n",
    ")"
   ]
  },
  {
   "cell_type": "code",
   "execution_count": 40,
   "id": "d4878246",
   "metadata": {},
   "outputs": [
    {
     "data": {
      "text/plain": [
       "ColumnTransformer(transformers=[('num',\n",
       "                                 Pipeline(steps=[('imputer',\n",
       "                                                  SimpleImputer(strategy='median')),\n",
       "                                                 ('scaler', StandardScaler())]),\n",
       "                                 ['PRBUsageUL', 'PRBUsageDL', 'meanThr_DL',\n",
       "                                  'meanThr_UL', 'maxThr_DL', 'maxThr_UL',\n",
       "                                  'meanUE_DL', 'meanUE_UL', 'maxUE_DL',\n",
       "                                  'maxUE_UL']),\n",
       "                                ('cat',\n",
       "                                 Pipeline(steps=[('encoder',\n",
       "                                                  OneHotEncoder(handle_unknown='ignore'))]),\n",
       "                                 ['CellName'])])"
      ]
     },
     "execution_count": 40,
     "metadata": {},
     "output_type": "execute_result"
    }
   ],
   "source": [
    "# fit the preprocessor on the data\n",
    "preprocessor.fit(X_train)"
   ]
  },
  {
   "cell_type": "code",
   "execution_count": 41,
   "id": "b1800ace",
   "metadata": {},
   "outputs": [
    {
     "data": {
      "text/plain": [
       "['preprocessing_pipeline.joblib']"
      ]
     },
     "execution_count": 41,
     "metadata": {},
     "output_type": "execute_result"
    }
   ],
   "source": [
    "joblib.dump(preprocessor, 'preprocessing_pipeline.joblib')"
   ]
  },
  {
   "cell_type": "markdown",
   "id": "d2e8f786",
   "metadata": {},
   "source": [
    "TEST"
   ]
  },
  {
   "cell_type": "code",
   "execution_count": 20,
   "id": "658492a9",
   "metadata": {},
   "outputs": [],
   "source": [
    "#def preprocess(X):\n",
    "#    X_transformed = preprocessor.transform(X)\n",
    "#    return X_transformed"
   ]
  },
  {
   "cell_type": "code",
   "execution_count": 1,
   "id": "05bcad7c",
   "metadata": {},
   "outputs": [],
   "source": [
    "#X_processed = preprocess(X_test)\n",
    "#print(X_processed.shap)\n",
    "#column_names = pipe.named_steps['preprocessor'].transformers_[1][1]\\\n",
    "#   .named_steps[\"encoder\"].get_feature_names(categorical_features)\n",
    "# Create new pandas dataframe with transformed data and column names\n",
    "#df_transformed = pd.DataFrame(X_processed, columns=np.concatenate((column_names, numeric_features)))"
   ]
  },
  {
   "cell_type": "code",
   "execution_count": null,
   "id": "4538a64f",
   "metadata": {},
   "outputs": [],
   "source": []
  }
 ],
 "metadata": {
  "kernelspec": {
   "display_name": "Python 3 (ipykernel)",
   "language": "python",
   "name": "python3"
  },
  "language_info": {
   "codemirror_mode": {
    "name": "ipython",
    "version": 3
   },
   "file_extension": ".py",
   "mimetype": "text/x-python",
   "name": "python",
   "nbconvert_exporter": "python",
   "pygments_lexer": "ipython3",
   "version": "3.9.13"
  }
 },
 "nbformat": 4,
 "nbformat_minor": 5
}
