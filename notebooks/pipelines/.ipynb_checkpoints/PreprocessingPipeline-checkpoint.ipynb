{
 "cells": [
  {
   "cell_type": "code",
   "execution_count": 73,
   "id": "2705fbff",
   "metadata": {},
   "outputs": [],
   "source": [
    "import numpy as np\n",
    "# import matplotlib.pyplot as plt\n",
    "import pandas as pd\n",
    "from sklearn.model_selection import train_test_split\n",
    "from sklearn.pipeline import Pipeline\n",
    "from sklearn.impute import SimpleImputer\n",
    "from sklearn.preprocessing import StandardScaler, OneHotEncoder\n",
    "from sklearn.compose import ColumnTransformer\n",
    "from sklearn.feature_selection import SelectPercentile, chi2\n",
    "import pickle\n",
    "from sklearn import set_config\n",
    "from sklearn.feature_extraction.text import CountVectorizer"
   ]
  },
  {
   "cell_type": "code",
   "execution_count": 91,
   "id": "0a971910",
   "metadata": {},
   "outputs": [
    {
     "name": "stdout",
     "output_type": "stream",
     "text": [
      "<class 'pandas.core.frame.DataFrame'>\n",
      "RangeIndex: 25832 entries, 0 to 25831\n",
      "Data columns (total 13 columns):\n",
      " #   Column       Non-Null Count  Dtype  \n",
      "---  ------       --------------  -----  \n",
      " 0   Time         25832 non-null  object \n",
      " 1   CellName     25832 non-null  object \n",
      " 2   PRBUsageUL   25832 non-null  float64\n",
      " 3   PRBUsageDL   25832 non-null  float64\n",
      " 4   meanThr_DL   25832 non-null  float64\n",
      " 5   meanThr_UL   25832 non-null  float64\n",
      " 6   maxThr_DL    25832 non-null  float64\n",
      " 7   maxThr_UL    25832 non-null  float64\n",
      " 8   meanUE_DL    25832 non-null  float64\n",
      " 9   meanUE_UL    25832 non-null  float64\n",
      " 10  maxUE_DL     25773 non-null  float64\n",
      " 11  maxUE_UL     25773 non-null  float64\n",
      " 12  maxUE_UL+DL  25828 non-null  object \n",
      "dtypes: float64(10), object(3)\n",
      "memory usage: 2.6+ MB\n"
     ]
    }
   ],
   "source": [
    "train_data = pd.read_csv('../../data/raw/train.csv',  encoding= 'unicode_escape')\n",
    "train_data = train_data.loc[:, ~train_data.columns.str.contains('^Unnamed')]\n",
    "y_train = train_data[\"Unusual\"]                      #defining the labels\n",
    "X_train = train_data.drop([\"Unusual\"], axis=1)\n",
    "test_data = pd.read_csv('../../data/raw/test.csv',  encoding= 'unicode_escape')\n",
    "test_data = test_data.loc[:, ~test_data.columns.str.contains('^Unnamed')]\n",
    "y_test = test_data[\"Unusual\"]                      #defining the labels\n",
    "X_test = test_data.drop([\"Unusual\"], axis=1)\n",
    "X_train.info()\n",
    "#train_data"
   ]
  },
  {
   "cell_type": "code",
   "execution_count": 81,
   "id": "cf72c0ea",
   "metadata": {},
   "outputs": [
    {
     "name": "stdout",
     "output_type": "stream",
     "text": [
      "<class 'datetime.time'>\n",
      "12:34:00\n"
     ]
    }
   ],
   "source": [
    "import datetime\n",
    "\n",
    "# integer value representing time (1234)\n",
    "time_int = 1234\n",
    "\n",
    "# convert integer to time format (12:34)\n",
    "time_str = datetime.datetime.strptime(str(time_int), '%H%M').strftime('%H:%M')\n",
    "time_obj = datetime.datetime.strptime(time_str, '%H:%M').time()\n",
    "print(type(time_obj))\n",
    "print(time_obj)"
   ]
  },
  {
   "cell_type": "code",
   "execution_count": 341,
   "id": "661cc268",
   "metadata": {},
   "outputs": [
    {
     "name": "stdout",
     "output_type": "stream",
     "text": [
      "0    12:34:00\n",
      "1    04:56:00\n",
      "2    23:40:00\n",
      "Name: time1, dtype: object\n",
      "<class 'datetime.time'>\n"
     ]
    }
   ],
   "source": [
    "import pandas as pd\n",
    "from datetime import datetime\n",
    "# create a sample DataFrame\n",
    "df = pd.DataFrame({'time': ['12:34', '4:56', '23:40']})\n",
    "\n",
    "df['time1'] = pd.to_datetime(df['time']).dt.time\n",
    "df['time2'] = pd.to_datetime(df['time']).dt.time.astype('str').astype('datetime64[ns]')\n",
    "df['time2'] = pd.to_datetime(df['time']).dt.minute\n",
    "\n",
    "#df['time1'] = dt.datetime.strptime(str(df['time']),'%H:%M').time()\n",
    "#df['time'] = df['time'].astype('datetime64[ns]')\n",
    "\n",
    "print(df['time1'])\n",
    "print(type(df['time1'][2]))"
   ]
  },
  {
   "cell_type": "code",
   "execution_count": 321,
   "id": "60f4e4cc",
   "metadata": {},
   "outputs": [
    {
     "name": "stdout",
     "output_type": "stream",
     "text": [
      "01:30:00\n"
     ]
    }
   ],
   "source": [
    "import datetime as dt\n",
    "mytime = dt.datetime.strptime('0130','%H%M').time()\n",
    "mydatetime = dt.datetime.combine(dt.date.today(), mytime)\n",
    "print(mytime)"
   ]
  },
  {
   "cell_type": "code",
   "execution_count": 90,
   "id": "31ad61b3",
   "metadata": {},
   "outputs": [],
   "source": [
    "# Define custom transformers\n",
    "class CustomTransformer:\n",
    "    def __init__(self, parameter):\n",
    "        self.parameter = parameter\n",
    "    \n",
    "    def fit(self, X, y=None):\n",
    "        return self\n",
    "    \n",
    "    def transform(self, X):\n",
    "        # perform custom transformation\n",
    "        return X\n",
    "# Define a function that converts the 'date' column to datetime type\n",
    "def convert_to_datetime(X_train):\n",
    "    X_train['date_time'] = pd.to_datetime(X_train['Time'])\n",
    "    def convert_to_float(dt):\n",
    "        return dt.timestamp()\n",
    "\n",
    "# apply the conversion function to the date_time column\n",
    "    X_train['Time'] = X_train['date_time'].apply(convert_to_float)  \n",
    "    return X_train"
   ]
  },
  {
   "cell_type": "code",
   "execution_count": 91,
   "id": "ae1eec13",
   "metadata": {},
   "outputs": [],
   "source": [
    "from sklearn.preprocessing import FunctionTransformer\n",
    "\n",
    "\n",
    "dt_feature = ['Time']\n",
    "date_time_transformer = Pipeline([\n",
    "    ('datetime_conversion', FunctionTransformer(convert_to_datetime))\n",
    "])"
   ]
  },
  {
   "cell_type": "code",
   "execution_count": 92,
   "id": "0bb1ae7d",
   "metadata": {},
   "outputs": [],
   "source": [
    "numeric_features = X_train.select_dtypes(exclude=['object']).columns.tolist()\n",
    "\n",
    "numeric_transformer = Pipeline(\n",
    "    steps=[(\"imputer\", SimpleImputer(strategy=\"median\")), (\"scaler\", StandardScaler())]\n",
    ")"
   ]
  },
  {
   "cell_type": "code",
   "execution_count": 93,
   "id": "cbeed5d5",
   "metadata": {},
   "outputs": [],
   "source": [
    "# Create a list of all possible categories across both datasets\n",
    "categories = pd.concat([X_train, X_test])['CellName'].unique()\n",
    "categorical_features = ['CellName']\n",
    "categorical_transformer = Pipeline(\n",
    "    steps=[\n",
    "        #(\"encoder\", OneHotEncoder(handle_unknown=\"ignore\"))\n",
    "        ('encoder', OneHotEncoder(categories=[categories]))\n",
    "    ]\n",
    ")"
   ]
  },
  {
   "cell_type": "code",
   "execution_count": 94,
   "id": "7642b4ab",
   "metadata": {},
   "outputs": [],
   "source": [
    "# time = ['Time']\n",
    "# text_transformer = Pipeline(steps=[\n",
    "#     ('countvec', CountVectorizer())\n",
    "# ])"
   ]
  },
  {
   "cell_type": "code",
   "execution_count": 95,
   "id": "68705ea0",
   "metadata": {},
   "outputs": [],
   "source": [
    "preprocessor = ColumnTransformer(\n",
    "    transformers=[\n",
    "        (\"dt\", date_time_transformer, dt_feature),\n",
    "        (\"num\", numeric_transformer, numeric_features),\n",
    "        (\"cat\", categorical_transformer, categorical_features),\n",
    "        \n",
    "    ],\n",
    "    remainder='drop'\n",
    ")"
   ]
  },
  {
   "cell_type": "code",
   "execution_count": 96,
   "id": "a63a6cbd",
   "metadata": {},
   "outputs": [
    {
     "data": {
      "text/html": [
       "<div>\n",
       "<style scoped>\n",
       "    .dataframe tbody tr th:only-of-type {\n",
       "        vertical-align: middle;\n",
       "    }\n",
       "\n",
       "    .dataframe tbody tr th {\n",
       "        vertical-align: top;\n",
       "    }\n",
       "\n",
       "    .dataframe thead th {\n",
       "        text-align: right;\n",
       "    }\n",
       "</style>\n",
       "<table border=\"1\" class=\"dataframe\">\n",
       "  <thead>\n",
       "    <tr style=\"text-align: right;\">\n",
       "      <th></th>\n",
       "      <th>Unnamed: 0</th>\n",
       "      <th>Time</th>\n",
       "      <th>CellName</th>\n",
       "      <th>PRBUsageUL</th>\n",
       "      <th>PRBUsageDL</th>\n",
       "      <th>meanThr_DL</th>\n",
       "      <th>meanThr_UL</th>\n",
       "      <th>maxThr_DL</th>\n",
       "      <th>maxThr_UL</th>\n",
       "      <th>meanUE_DL</th>\n",
       "      <th>meanUE_UL</th>\n",
       "      <th>maxUE_DL</th>\n",
       "      <th>maxUE_UL</th>\n",
       "      <th>maxUE_UL+DL</th>\n",
       "    </tr>\n",
       "  </thead>\n",
       "  <tbody>\n",
       "    <tr>\n",
       "      <th>0</th>\n",
       "      <td>35217</td>\n",
       "      <td>8:30</td>\n",
       "      <td>9ALTE</td>\n",
       "      <td>3.537</td>\n",
       "      <td>0.808</td>\n",
       "      <td>0.148</td>\n",
       "      <td>0.013</td>\n",
       "      <td>4.236</td>\n",
       "      <td>0.111</td>\n",
       "      <td>1.051</td>\n",
       "      <td>1.021</td>\n",
       "      <td>3.0</td>\n",
       "      <td>2.0</td>\n",
       "      <td>5</td>\n",
       "    </tr>\n",
       "    <tr>\n",
       "      <th>1</th>\n",
       "      <td>507</td>\n",
       "      <td>18:15</td>\n",
       "      <td>4CLTE</td>\n",
       "      <td>15.259</td>\n",
       "      <td>1.819</td>\n",
       "      <td>0.457</td>\n",
       "      <td>0.039</td>\n",
       "      <td>82.104</td>\n",
       "      <td>0.560</td>\n",
       "      <td>1.172</td>\n",
       "      <td>1.112</td>\n",
       "      <td>5.0</td>\n",
       "      <td>4.0</td>\n",
       "      <td>9</td>\n",
       "    </tr>\n",
       "    <tr>\n",
       "      <th>2</th>\n",
       "      <td>6074</td>\n",
       "      <td>7:15</td>\n",
       "      <td>6ALTE</td>\n",
       "      <td>3.335</td>\n",
       "      <td>0.909</td>\n",
       "      <td>0.448</td>\n",
       "      <td>0.032</td>\n",
       "      <td>31.147</td>\n",
       "      <td>0.849</td>\n",
       "      <td>1.071</td>\n",
       "      <td>0.010</td>\n",
       "      <td>3.0</td>\n",
       "      <td>2.0</td>\n",
       "      <td>5</td>\n",
       "    </tr>\n",
       "    <tr>\n",
       "      <th>3</th>\n",
       "      <td>12206</td>\n",
       "      <td>21:30</td>\n",
       "      <td>7WLTE</td>\n",
       "      <td>2.728</td>\n",
       "      <td>5.154</td>\n",
       "      <td>0.786</td>\n",
       "      <td>0.085</td>\n",
       "      <td>19.737</td>\n",
       "      <td>1.408</td>\n",
       "      <td>1.374</td>\n",
       "      <td>0.010</td>\n",
       "      <td>6.0</td>\n",
       "      <td>4.0</td>\n",
       "      <td>10</td>\n",
       "    </tr>\n",
       "    <tr>\n",
       "      <th>4</th>\n",
       "      <td>29773</td>\n",
       "      <td>18:45</td>\n",
       "      <td>6ULTE</td>\n",
       "      <td>2.526</td>\n",
       "      <td>5.558</td>\n",
       "      <td>1.936</td>\n",
       "      <td>0.116</td>\n",
       "      <td>37.587</td>\n",
       "      <td>1.253</td>\n",
       "      <td>1.445</td>\n",
       "      <td>0.010</td>\n",
       "      <td>6.0</td>\n",
       "      <td>4.0</td>\n",
       "      <td>10</td>\n",
       "    </tr>\n",
       "  </tbody>\n",
       "</table>\n",
       "</div>"
      ],
      "text/plain": [
       "   Unnamed: 0   Time CellName  PRBUsageUL  PRBUsageDL  meanThr_DL  meanThr_UL  \\\n",
       "0       35217   8:30    9ALTE       3.537       0.808       0.148       0.013   \n",
       "1         507  18:15    4CLTE      15.259       1.819       0.457       0.039   \n",
       "2        6074   7:15    6ALTE       3.335       0.909       0.448       0.032   \n",
       "3       12206  21:30    7WLTE       2.728       5.154       0.786       0.085   \n",
       "4       29773  18:45    6ULTE       2.526       5.558       1.936       0.116   \n",
       "\n",
       "   maxThr_DL  maxThr_UL  meanUE_DL  meanUE_UL  maxUE_DL  maxUE_UL maxUE_UL+DL  \n",
       "0      4.236      0.111      1.051      1.021       3.0       2.0           5  \n",
       "1     82.104      0.560      1.172      1.112       5.0       4.0           9  \n",
       "2     31.147      0.849      1.071      0.010       3.0       2.0           5  \n",
       "3     19.737      1.408      1.374      0.010       6.0       4.0          10  \n",
       "4     37.587      1.253      1.445      0.010       6.0       4.0          10  "
      ]
     },
     "execution_count": 96,
     "metadata": {},
     "output_type": "execute_result"
    }
   ],
   "source": [
    "X_train.head()"
   ]
  },
  {
   "cell_type": "code",
   "execution_count": 97,
   "id": "d4878246",
   "metadata": {},
   "outputs": [
    {
     "name": "stdout",
     "output_type": "stream",
     "text": [
      "ColumnTransformer(transformers=[('dt',\n",
      "                                 Pipeline(steps=[('datetime_conversion',\n",
      "                                                  FunctionTransformer(func=<function convert_to_datetime at 0x0000024BA654EEF0>))]),\n",
      "                                 ['Time']),\n",
      "                                ('num',\n",
      "                                 Pipeline(steps=[('imputer',\n",
      "                                                  SimpleImputer(strategy='median')),\n",
      "                                                 ('scaler', StandardScaler())]),\n",
      "                                 ['Unnamed: 0', 'PRBUsageUL', 'PRBUsageDL',\n",
      "                                  'meanThr_DL', 'meanThr_UL', 'maxThr_DL',\n",
      "                                  'maxThr_U...\n",
      "                                 Pipeline(steps=[('encoder',\n",
      "                                                  OneHotEncoder(categories=[array(['9ALTE', '4CLTE', '6ALTE', '7WLTE', '6ULTE', '1BLTE', '10BLTE',\n",
      "       '6WLTE', '3CLTE', '5ALTE', '10CLTE', '1CLTE', '8CLTE', '7ALTE',\n",
      "       '5BLTE', '10ALTE', '7BLTE', '5CLTE', '7VLTE', '3BLTE', '8ALTE',\n",
      "       '4ALTE', '6CLTE', '7ULTE', '6BLTE', '3ALTE', '7CLTE', '6VLTE',\n",
      "       '1ALTE', '2ALTE', '9BLTE', '4BLTE', '8BLTE'], dtype=object)]))]),\n",
      "                                 ['CellName'])])\n"
     ]
    }
   ],
   "source": [
    "# fit the preprocessor on the data\n",
    "preprocessor.fit(X_train)\n",
    "print(preprocessor)"
   ]
  },
  {
   "cell_type": "code",
   "execution_count": 98,
   "id": "b1800ace",
   "metadata": {},
   "outputs": [],
   "source": [
    "with open('PreprocessingPipeline.pkl', 'wb') as f:\n",
    "    # write the preprocessor object to the file\n",
    "    pickle.dump(preprocessor, f)"
   ]
  },
  {
   "cell_type": "markdown",
   "id": "d2e8f786",
   "metadata": {},
   "source": [
    "TEST"
   ]
  },
  {
   "cell_type": "code",
   "execution_count": 99,
   "id": "beae1407",
   "metadata": {},
   "outputs": [
    {
     "data": {
      "text/html": [
       "<style>#sk-6e450b43-84c0-46ae-905d-318efa213ee4 {color: black;background-color: white;}#sk-6e450b43-84c0-46ae-905d-318efa213ee4 pre{padding: 0;}#sk-6e450b43-84c0-46ae-905d-318efa213ee4 div.sk-toggleable {background-color: white;}#sk-6e450b43-84c0-46ae-905d-318efa213ee4 label.sk-toggleable__label {cursor: pointer;display: block;width: 100%;margin-bottom: 0;padding: 0.3em;box-sizing: border-box;text-align: center;}#sk-6e450b43-84c0-46ae-905d-318efa213ee4 label.sk-toggleable__label-arrow:before {content: \"▸\";float: left;margin-right: 0.25em;color: #696969;}#sk-6e450b43-84c0-46ae-905d-318efa213ee4 label.sk-toggleable__label-arrow:hover:before {color: black;}#sk-6e450b43-84c0-46ae-905d-318efa213ee4 div.sk-estimator:hover label.sk-toggleable__label-arrow:before {color: black;}#sk-6e450b43-84c0-46ae-905d-318efa213ee4 div.sk-toggleable__content {max-height: 0;max-width: 0;overflow: hidden;text-align: left;background-color: #f0f8ff;}#sk-6e450b43-84c0-46ae-905d-318efa213ee4 div.sk-toggleable__content pre {margin: 0.2em;color: black;border-radius: 0.25em;background-color: #f0f8ff;}#sk-6e450b43-84c0-46ae-905d-318efa213ee4 input.sk-toggleable__control:checked~div.sk-toggleable__content {max-height: 200px;max-width: 100%;overflow: auto;}#sk-6e450b43-84c0-46ae-905d-318efa213ee4 input.sk-toggleable__control:checked~label.sk-toggleable__label-arrow:before {content: \"▾\";}#sk-6e450b43-84c0-46ae-905d-318efa213ee4 div.sk-estimator input.sk-toggleable__control:checked~label.sk-toggleable__label {background-color: #d4ebff;}#sk-6e450b43-84c0-46ae-905d-318efa213ee4 div.sk-label input.sk-toggleable__control:checked~label.sk-toggleable__label {background-color: #d4ebff;}#sk-6e450b43-84c0-46ae-905d-318efa213ee4 input.sk-hidden--visually {border: 0;clip: rect(1px 1px 1px 1px);clip: rect(1px, 1px, 1px, 1px);height: 1px;margin: -1px;overflow: hidden;padding: 0;position: absolute;width: 1px;}#sk-6e450b43-84c0-46ae-905d-318efa213ee4 div.sk-estimator {font-family: monospace;background-color: #f0f8ff;border: 1px dotted black;border-radius: 0.25em;box-sizing: border-box;margin-bottom: 0.5em;}#sk-6e450b43-84c0-46ae-905d-318efa213ee4 div.sk-estimator:hover {background-color: #d4ebff;}#sk-6e450b43-84c0-46ae-905d-318efa213ee4 div.sk-parallel-item::after {content: \"\";width: 100%;border-bottom: 1px solid gray;flex-grow: 1;}#sk-6e450b43-84c0-46ae-905d-318efa213ee4 div.sk-label:hover label.sk-toggleable__label {background-color: #d4ebff;}#sk-6e450b43-84c0-46ae-905d-318efa213ee4 div.sk-serial::before {content: \"\";position: absolute;border-left: 1px solid gray;box-sizing: border-box;top: 2em;bottom: 0;left: 50%;}#sk-6e450b43-84c0-46ae-905d-318efa213ee4 div.sk-serial {display: flex;flex-direction: column;align-items: center;background-color: white;padding-right: 0.2em;padding-left: 0.2em;}#sk-6e450b43-84c0-46ae-905d-318efa213ee4 div.sk-item {z-index: 1;}#sk-6e450b43-84c0-46ae-905d-318efa213ee4 div.sk-parallel {display: flex;align-items: stretch;justify-content: center;background-color: white;}#sk-6e450b43-84c0-46ae-905d-318efa213ee4 div.sk-parallel::before {content: \"\";position: absolute;border-left: 1px solid gray;box-sizing: border-box;top: 2em;bottom: 0;left: 50%;}#sk-6e450b43-84c0-46ae-905d-318efa213ee4 div.sk-parallel-item {display: flex;flex-direction: column;position: relative;background-color: white;}#sk-6e450b43-84c0-46ae-905d-318efa213ee4 div.sk-parallel-item:first-child::after {align-self: flex-end;width: 50%;}#sk-6e450b43-84c0-46ae-905d-318efa213ee4 div.sk-parallel-item:last-child::after {align-self: flex-start;width: 50%;}#sk-6e450b43-84c0-46ae-905d-318efa213ee4 div.sk-parallel-item:only-child::after {width: 0;}#sk-6e450b43-84c0-46ae-905d-318efa213ee4 div.sk-dashed-wrapped {border: 1px dashed gray;margin: 0 0.4em 0.5em 0.4em;box-sizing: border-box;padding-bottom: 0.4em;background-color: white;position: relative;}#sk-6e450b43-84c0-46ae-905d-318efa213ee4 div.sk-label label {font-family: monospace;font-weight: bold;background-color: white;display: inline-block;line-height: 1.2em;}#sk-6e450b43-84c0-46ae-905d-318efa213ee4 div.sk-label-container {position: relative;z-index: 2;text-align: center;}#sk-6e450b43-84c0-46ae-905d-318efa213ee4 div.sk-container {/* jupyter's `normalize.less` sets `[hidden] { display: none; }` but bootstrap.min.css set `[hidden] { display: none !important; }` so we also need the `!important` here to be able to override the default hidden behavior on the sphinx rendered scikit-learn.org. See: https://github.com/scikit-learn/scikit-learn/issues/21755 */display: inline-block !important;position: relative;}#sk-6e450b43-84c0-46ae-905d-318efa213ee4 div.sk-text-repr-fallback {display: none;}</style><div id=\"sk-6e450b43-84c0-46ae-905d-318efa213ee4\" class=\"sk-top-container\"><div class=\"sk-text-repr-fallback\"><pre>ColumnTransformer(transformers=[(&#x27;dt&#x27;,\n",
       "                                 Pipeline(steps=[(&#x27;datetime_conversion&#x27;,\n",
       "                                                  FunctionTransformer(func=&lt;function convert_to_datetime at 0x0000024BA654EEF0&gt;))]),\n",
       "                                 [&#x27;Time&#x27;]),\n",
       "                                (&#x27;num&#x27;,\n",
       "                                 Pipeline(steps=[(&#x27;imputer&#x27;,\n",
       "                                                  SimpleImputer(strategy=&#x27;median&#x27;)),\n",
       "                                                 (&#x27;scaler&#x27;, StandardScaler())]),\n",
       "                                 [&#x27;Unnamed: 0&#x27;, &#x27;PRBUsageUL&#x27;, &#x27;PRBUsageDL&#x27;,\n",
       "                                  &#x27;meanThr_DL&#x27;, &#x27;meanThr_UL&#x27;, &#x27;maxThr_DL&#x27;,\n",
       "                                  &#x27;maxThr_U...\n",
       "                                 Pipeline(steps=[(&#x27;encoder&#x27;,\n",
       "                                                  OneHotEncoder(categories=[array([&#x27;9ALTE&#x27;, &#x27;4CLTE&#x27;, &#x27;6ALTE&#x27;, &#x27;7WLTE&#x27;, &#x27;6ULTE&#x27;, &#x27;1BLTE&#x27;, &#x27;10BLTE&#x27;,\n",
       "       &#x27;6WLTE&#x27;, &#x27;3CLTE&#x27;, &#x27;5ALTE&#x27;, &#x27;10CLTE&#x27;, &#x27;1CLTE&#x27;, &#x27;8CLTE&#x27;, &#x27;7ALTE&#x27;,\n",
       "       &#x27;5BLTE&#x27;, &#x27;10ALTE&#x27;, &#x27;7BLTE&#x27;, &#x27;5CLTE&#x27;, &#x27;7VLTE&#x27;, &#x27;3BLTE&#x27;, &#x27;8ALTE&#x27;,\n",
       "       &#x27;4ALTE&#x27;, &#x27;6CLTE&#x27;, &#x27;7ULTE&#x27;, &#x27;6BLTE&#x27;, &#x27;3ALTE&#x27;, &#x27;7CLTE&#x27;, &#x27;6VLTE&#x27;,\n",
       "       &#x27;1ALTE&#x27;, &#x27;2ALTE&#x27;, &#x27;9BLTE&#x27;, &#x27;4BLTE&#x27;, &#x27;8BLTE&#x27;], dtype=object)]))]),\n",
       "                                 [&#x27;CellName&#x27;])])</pre><b>Please rerun this cell to show the HTML repr or trust the notebook.</b></div><div class=\"sk-container\" hidden><div class=\"sk-item sk-dashed-wrapped\"><div class=\"sk-label-container\"><div class=\"sk-label sk-toggleable\"><input class=\"sk-toggleable__control sk-hidden--visually\" id=\"394d30e1-a0c0-4f64-9392-146838f2b624\" type=\"checkbox\" ><label for=\"394d30e1-a0c0-4f64-9392-146838f2b624\" class=\"sk-toggleable__label sk-toggleable__label-arrow\">ColumnTransformer</label><div class=\"sk-toggleable__content\"><pre>ColumnTransformer(transformers=[(&#x27;dt&#x27;,\n",
       "                                 Pipeline(steps=[(&#x27;datetime_conversion&#x27;,\n",
       "                                                  FunctionTransformer(func=&lt;function convert_to_datetime at 0x0000024BA654EEF0&gt;))]),\n",
       "                                 [&#x27;Time&#x27;]),\n",
       "                                (&#x27;num&#x27;,\n",
       "                                 Pipeline(steps=[(&#x27;imputer&#x27;,\n",
       "                                                  SimpleImputer(strategy=&#x27;median&#x27;)),\n",
       "                                                 (&#x27;scaler&#x27;, StandardScaler())]),\n",
       "                                 [&#x27;Unnamed: 0&#x27;, &#x27;PRBUsageUL&#x27;, &#x27;PRBUsageDL&#x27;,\n",
       "                                  &#x27;meanThr_DL&#x27;, &#x27;meanThr_UL&#x27;, &#x27;maxThr_DL&#x27;,\n",
       "                                  &#x27;maxThr_U...\n",
       "                                 Pipeline(steps=[(&#x27;encoder&#x27;,\n",
       "                                                  OneHotEncoder(categories=[array([&#x27;9ALTE&#x27;, &#x27;4CLTE&#x27;, &#x27;6ALTE&#x27;, &#x27;7WLTE&#x27;, &#x27;6ULTE&#x27;, &#x27;1BLTE&#x27;, &#x27;10BLTE&#x27;,\n",
       "       &#x27;6WLTE&#x27;, &#x27;3CLTE&#x27;, &#x27;5ALTE&#x27;, &#x27;10CLTE&#x27;, &#x27;1CLTE&#x27;, &#x27;8CLTE&#x27;, &#x27;7ALTE&#x27;,\n",
       "       &#x27;5BLTE&#x27;, &#x27;10ALTE&#x27;, &#x27;7BLTE&#x27;, &#x27;5CLTE&#x27;, &#x27;7VLTE&#x27;, &#x27;3BLTE&#x27;, &#x27;8ALTE&#x27;,\n",
       "       &#x27;4ALTE&#x27;, &#x27;6CLTE&#x27;, &#x27;7ULTE&#x27;, &#x27;6BLTE&#x27;, &#x27;3ALTE&#x27;, &#x27;7CLTE&#x27;, &#x27;6VLTE&#x27;,\n",
       "       &#x27;1ALTE&#x27;, &#x27;2ALTE&#x27;, &#x27;9BLTE&#x27;, &#x27;4BLTE&#x27;, &#x27;8BLTE&#x27;], dtype=object)]))]),\n",
       "                                 [&#x27;CellName&#x27;])])</pre></div></div></div><div class=\"sk-parallel\"><div class=\"sk-parallel-item\"><div class=\"sk-item\"><div class=\"sk-label-container\"><div class=\"sk-label sk-toggleable\"><input class=\"sk-toggleable__control sk-hidden--visually\" id=\"eca9775d-b112-4937-a6ff-c1131fee1317\" type=\"checkbox\" ><label for=\"eca9775d-b112-4937-a6ff-c1131fee1317\" class=\"sk-toggleable__label sk-toggleable__label-arrow\">dt</label><div class=\"sk-toggleable__content\"><pre>[&#x27;Time&#x27;]</pre></div></div></div><div class=\"sk-serial\"><div class=\"sk-item\"><div class=\"sk-serial\"><div class=\"sk-item\"><div class=\"sk-estimator sk-toggleable\"><input class=\"sk-toggleable__control sk-hidden--visually\" id=\"aa2bc2c1-d08d-4314-8257-cbbe22812806\" type=\"checkbox\" ><label for=\"aa2bc2c1-d08d-4314-8257-cbbe22812806\" class=\"sk-toggleable__label sk-toggleable__label-arrow\">FunctionTransformer</label><div class=\"sk-toggleable__content\"><pre>FunctionTransformer(func=&lt;function convert_to_datetime at 0x0000024BA654EEF0&gt;)</pre></div></div></div></div></div></div></div></div><div class=\"sk-parallel-item\"><div class=\"sk-item\"><div class=\"sk-label-container\"><div class=\"sk-label sk-toggleable\"><input class=\"sk-toggleable__control sk-hidden--visually\" id=\"50241ba8-369a-49b2-b7bc-f032f8816dc4\" type=\"checkbox\" ><label for=\"50241ba8-369a-49b2-b7bc-f032f8816dc4\" class=\"sk-toggleable__label sk-toggleable__label-arrow\">num</label><div class=\"sk-toggleable__content\"><pre>[&#x27;Unnamed: 0&#x27;, &#x27;PRBUsageUL&#x27;, &#x27;PRBUsageDL&#x27;, &#x27;meanThr_DL&#x27;, &#x27;meanThr_UL&#x27;, &#x27;maxThr_DL&#x27;, &#x27;maxThr_UL&#x27;, &#x27;meanUE_DL&#x27;, &#x27;meanUE_UL&#x27;, &#x27;maxUE_DL&#x27;, &#x27;maxUE_UL&#x27;]</pre></div></div></div><div class=\"sk-serial\"><div class=\"sk-item\"><div class=\"sk-serial\"><div class=\"sk-item\"><div class=\"sk-estimator sk-toggleable\"><input class=\"sk-toggleable__control sk-hidden--visually\" id=\"5056c817-8edf-495f-88e0-8d57dc518237\" type=\"checkbox\" ><label for=\"5056c817-8edf-495f-88e0-8d57dc518237\" class=\"sk-toggleable__label sk-toggleable__label-arrow\">SimpleImputer</label><div class=\"sk-toggleable__content\"><pre>SimpleImputer(strategy=&#x27;median&#x27;)</pre></div></div></div><div class=\"sk-item\"><div class=\"sk-estimator sk-toggleable\"><input class=\"sk-toggleable__control sk-hidden--visually\" id=\"c8c3c28a-061a-4142-96eb-f5559e0dfcad\" type=\"checkbox\" ><label for=\"c8c3c28a-061a-4142-96eb-f5559e0dfcad\" class=\"sk-toggleable__label sk-toggleable__label-arrow\">StandardScaler</label><div class=\"sk-toggleable__content\"><pre>StandardScaler()</pre></div></div></div></div></div></div></div></div><div class=\"sk-parallel-item\"><div class=\"sk-item\"><div class=\"sk-label-container\"><div class=\"sk-label sk-toggleable\"><input class=\"sk-toggleable__control sk-hidden--visually\" id=\"4b318221-f8ae-457d-b715-c84c26dd0cd9\" type=\"checkbox\" ><label for=\"4b318221-f8ae-457d-b715-c84c26dd0cd9\" class=\"sk-toggleable__label sk-toggleable__label-arrow\">cat</label><div class=\"sk-toggleable__content\"><pre>[&#x27;CellName&#x27;]</pre></div></div></div><div class=\"sk-serial\"><div class=\"sk-item\"><div class=\"sk-serial\"><div class=\"sk-item\"><div class=\"sk-estimator sk-toggleable\"><input class=\"sk-toggleable__control sk-hidden--visually\" id=\"c31870eb-59c9-458d-b2ee-bde14da7a2b7\" type=\"checkbox\" ><label for=\"c31870eb-59c9-458d-b2ee-bde14da7a2b7\" class=\"sk-toggleable__label sk-toggleable__label-arrow\">OneHotEncoder</label><div class=\"sk-toggleable__content\"><pre>OneHotEncoder(categories=[array([&#x27;9ALTE&#x27;, &#x27;4CLTE&#x27;, &#x27;6ALTE&#x27;, &#x27;7WLTE&#x27;, &#x27;6ULTE&#x27;, &#x27;1BLTE&#x27;, &#x27;10BLTE&#x27;,\n",
       "       &#x27;6WLTE&#x27;, &#x27;3CLTE&#x27;, &#x27;5ALTE&#x27;, &#x27;10CLTE&#x27;, &#x27;1CLTE&#x27;, &#x27;8CLTE&#x27;, &#x27;7ALTE&#x27;,\n",
       "       &#x27;5BLTE&#x27;, &#x27;10ALTE&#x27;, &#x27;7BLTE&#x27;, &#x27;5CLTE&#x27;, &#x27;7VLTE&#x27;, &#x27;3BLTE&#x27;, &#x27;8ALTE&#x27;,\n",
       "       &#x27;4ALTE&#x27;, &#x27;6CLTE&#x27;, &#x27;7ULTE&#x27;, &#x27;6BLTE&#x27;, &#x27;3ALTE&#x27;, &#x27;7CLTE&#x27;, &#x27;6VLTE&#x27;,\n",
       "       &#x27;1ALTE&#x27;, &#x27;2ALTE&#x27;, &#x27;9BLTE&#x27;, &#x27;4BLTE&#x27;, &#x27;8BLTE&#x27;], dtype=object)])</pre></div></div></div></div></div></div></div></div></div></div></div></div>"
      ],
      "text/plain": [
       "ColumnTransformer(transformers=[('dt',\n",
       "                                 Pipeline(steps=[('datetime_conversion',\n",
       "                                                  FunctionTransformer(func=<function convert_to_datetime at 0x0000024BA654EEF0>))]),\n",
       "                                 ['Time']),\n",
       "                                ('num',\n",
       "                                 Pipeline(steps=[('imputer',\n",
       "                                                  SimpleImputer(strategy='median')),\n",
       "                                                 ('scaler', StandardScaler())]),\n",
       "                                 ['Unnamed: 0', 'PRBUsageUL', 'PRBUsageDL',\n",
       "                                  'meanThr_DL', 'meanThr_UL', 'maxThr_DL',\n",
       "                                  'maxThr_U...\n",
       "                                 Pipeline(steps=[('encoder',\n",
       "                                                  OneHotEncoder(categories=[array(['9ALTE', '4CLTE', '6ALTE', '7WLTE', '6ULTE', '1BLTE', '10BLTE',\n",
       "       '6WLTE', '3CLTE', '5ALTE', '10CLTE', '1CLTE', '8CLTE', '7ALTE',\n",
       "       '5BLTE', '10ALTE', '7BLTE', '5CLTE', '7VLTE', '3BLTE', '8ALTE',\n",
       "       '4ALTE', '6CLTE', '7ULTE', '6BLTE', '3ALTE', '7CLTE', '6VLTE',\n",
       "       '1ALTE', '2ALTE', '9BLTE', '4BLTE', '8BLTE'], dtype=object)]))]),\n",
       "                                 ['CellName'])])"
      ]
     },
     "execution_count": 99,
     "metadata": {},
     "output_type": "execute_result"
    }
   ],
   "source": [
    "set_config(display=\"diagram\")\n",
    "preprocessor"
   ]
  },
  {
   "cell_type": "code",
   "execution_count": 52,
   "id": "05bcad7c",
   "metadata": {},
   "outputs": [],
   "source": [
    "#X_processed = preprocess(X_test)\n",
    "#print(X_processed.shap)\n",
    "#column_names = pipe.named_steps['preprocessor'].transformers_[1][1]\\\n",
    "#   .named_steps[\"encoder\"].get_feature_names(categorical_features)\n",
    "# Create new pandas dataframe with transformed data and column names\n",
    "#df_transformed = pd.DataFrame(X_processed, columns=np.concatenate((column_names, numeric_features)))"
   ]
  },
  {
   "cell_type": "code",
   "execution_count": null,
   "id": "4538a64f",
   "metadata": {},
   "outputs": [],
   "source": []
  },
  {
   "cell_type": "code",
   "execution_count": null,
   "id": "ac95ecb8",
   "metadata": {},
   "outputs": [],
   "source": []
  }
 ],
 "metadata": {
  "kernelspec": {
   "display_name": "Python 3 (ipykernel)",
   "language": "python",
   "name": "python3"
  },
  "language_info": {
   "codemirror_mode": {
    "name": "ipython",
    "version": 3
   },
   "file_extension": ".py",
   "mimetype": "text/x-python",
   "name": "python",
   "nbconvert_exporter": "python",
   "pygments_lexer": "ipython3",
   "version": "3.9.7"
  },
  "vscode": {
   "interpreter": {
    "hash": "31f2aee4e71d21fbe5cf8b01ff0e069b9275f58929596ceb00d14d90e3e16cd6"
   }
  }
 },
 "nbformat": 4,
 "nbformat_minor": 5
}
