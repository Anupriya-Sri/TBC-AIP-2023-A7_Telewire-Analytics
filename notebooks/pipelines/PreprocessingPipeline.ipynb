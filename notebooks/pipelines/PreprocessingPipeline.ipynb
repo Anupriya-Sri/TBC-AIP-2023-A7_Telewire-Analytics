{
 "cells": [
  {
   "cell_type": "code",
   "execution_count": 42,
   "id": "2705fbff",
   "metadata": {},
   "outputs": [],
   "source": [
    "import numpy as np\n",
    "# import matplotlib.pyplot as plt\n",
    "import pandas as pd\n",
    "from sklearn.model_selection import train_test_split\n",
    "from sklearn.pipeline import Pipeline\n",
    "from sklearn.impute import SimpleImputer\n",
    "from sklearn.preprocessing import StandardScaler, OneHotEncoder\n",
    "from sklearn.compose import ColumnTransformer\n",
    "from sklearn.feature_selection import SelectPercentile, chi2\n",
    "import pickle\n",
    "from sklearn import set_config"
   ]
  },
  {
   "cell_type": "code",
   "execution_count": 43,
   "id": "0a971910",
   "metadata": {},
   "outputs": [],
   "source": [
    "train_data = pd.read_csv('../../data/raw/train.csv',  encoding= 'unicode_escape')\n",
    "y_train = train_data[\"Unusual\"]                      #defining the labels\n",
    "X_train = train_data.drop([\"Unusual\"], axis=1)\n",
    "test_data = pd.read_csv('../../data/raw/test.csv',  encoding= 'unicode_escape')\n",
    "y_test = test_data[\"Unusual\"]                      #defining the labels\n",
    "X_test = test_data.drop([\"Unusual\"], axis=1)"
   ]
  },
  {
   "cell_type": "code",
   "execution_count": 44,
   "id": "0bb1ae7d",
   "metadata": {},
   "outputs": [],
   "source": [
    "numeric_features = X_train.select_dtypes(exclude=['object']).columns.tolist()\n",
    "\n",
    "numeric_transformer = Pipeline(\n",
    "    steps=[(\"imputer\", SimpleImputer(strategy=\"median\")), (\"scaler\", StandardScaler())]\n",
    ")"
   ]
  },
  {
   "cell_type": "code",
   "execution_count": 45,
   "id": "31ad61b3",
   "metadata": {},
   "outputs": [],
   "source": [
    "# Define custom transformers\n",
    "class CustomTransformer:\n",
    "    def __init__(self, parameter):\n",
    "        self.parameter = parameter\n",
    "    \n",
    "    def fit(self, X, y=None):\n",
    "        return self\n",
    "    \n",
    "    def transform(self, X):\n",
    "        # perform custom transformation\n",
    "        return X"
   ]
  },
  {
   "cell_type": "code",
   "execution_count": 46,
   "id": "cbeed5d5",
   "metadata": {},
   "outputs": [],
   "source": [
    "# Create a list of all possible categories across both datasets\n",
    "categories = pd.concat([X_train, X_test])['CellName'].unique()\n",
    "categorical_features = ['CellName']\n",
    "categorical_transformer = Pipeline(\n",
    "    steps=[\n",
    "        #(\"encoder\", OneHotEncoder(handle_unknown=\"ignore\"))\n",
    "        ('encoder', OneHotEncoder(categories=[categories]))\n",
    "    ]\n",
    ")"
   ]
  },
  {
   "cell_type": "code",
   "execution_count": 47,
   "id": "68705ea0",
   "metadata": {},
   "outputs": [],
   "source": [
    "preprocessor = ColumnTransformer(\n",
    "    transformers=[\n",
    "        (\"num\", numeric_transformer, numeric_features),\n",
    "        (\"cat\", categorical_transformer, categorical_features),\n",
    "    ]\n",
    ")"
   ]
  },
  {
   "cell_type": "code",
   "execution_count": 48,
   "id": "d4878246",
   "metadata": {},
   "outputs": [
    {
     "name": "stdout",
     "output_type": "stream",
     "text": [
      "ColumnTransformer(transformers=[('num',\n",
      "                                 Pipeline(steps=[('imputer',\n",
      "                                                  SimpleImputer(strategy='median')),\n",
      "                                                 ('scaler', StandardScaler())]),\n",
      "                                 ['Unnamed: 0', 'PRBUsageUL', 'PRBUsageDL',\n",
      "                                  'meanThr_DL', 'meanThr_UL', 'maxThr_DL',\n",
      "                                  'maxThr_UL', 'meanUE_DL', 'meanUE_UL',\n",
      "                                  'maxUE_DL', 'maxUE_UL']),\n",
      "                                ('cat',\n",
      "                                 Pipeline(steps=[('encoder',\n",
      "                                                  OneHotEncoder(categories=[array(['9ALTE', '4CLTE', '6ALTE', '7WLTE', '6ULTE', '1BLTE', '10BLTE',\n",
      "       '6WLTE', '3CLTE', '5ALTE', '10CLTE', '1CLTE', '8CLTE', '7ALTE',\n",
      "       '5BLTE', '10ALTE', '7BLTE', '5CLTE', '7VLTE', '3BLTE', '8ALTE',\n",
      "       '4ALTE', '6CLTE', '7ULTE', '6BLTE', '3ALTE', '7CLTE', '6VLTE',\n",
      "       '1ALTE', '2ALTE', '9BLTE', '4BLTE', '8BLTE'], dtype=object)]))]),\n",
      "                                 ['CellName'])])\n"
     ]
    }
   ],
   "source": [
    "# fit the preprocessor on the data\n",
    "preprocessor.fit(X_train)\n",
    "print(preprocessor)"
   ]
  },
  {
   "cell_type": "code",
   "execution_count": 49,
   "id": "b1800ace",
   "metadata": {},
   "outputs": [],
   "source": [
    "with open('PreprocessingPipeline.pkl', 'wb') as f:\n",
    "    # write the preprocessor object to the file\n",
    "    pickle.dump(preprocessor, f)"
   ]
  },
  {
   "cell_type": "markdown",
   "id": "d2e8f786",
   "metadata": {},
   "source": [
    "TEST"
   ]
  },
  {
   "cell_type": "code",
   "execution_count": 50,
   "id": "beae1407",
   "metadata": {},
   "outputs": [
    {
     "data": {
      "text/html": [
       "<style>#sk-a7d158ff-9fe7-40c0-90f9-9eef7efdfcbc {color: black;background-color: white;}#sk-a7d158ff-9fe7-40c0-90f9-9eef7efdfcbc pre{padding: 0;}#sk-a7d158ff-9fe7-40c0-90f9-9eef7efdfcbc div.sk-toggleable {background-color: white;}#sk-a7d158ff-9fe7-40c0-90f9-9eef7efdfcbc label.sk-toggleable__label {cursor: pointer;display: block;width: 100%;margin-bottom: 0;padding: 0.3em;box-sizing: border-box;text-align: center;}#sk-a7d158ff-9fe7-40c0-90f9-9eef7efdfcbc label.sk-toggleable__label-arrow:before {content: \"▸\";float: left;margin-right: 0.25em;color: #696969;}#sk-a7d158ff-9fe7-40c0-90f9-9eef7efdfcbc label.sk-toggleable__label-arrow:hover:before {color: black;}#sk-a7d158ff-9fe7-40c0-90f9-9eef7efdfcbc div.sk-estimator:hover label.sk-toggleable__label-arrow:before {color: black;}#sk-a7d158ff-9fe7-40c0-90f9-9eef7efdfcbc div.sk-toggleable__content {max-height: 0;max-width: 0;overflow: hidden;text-align: left;background-color: #f0f8ff;}#sk-a7d158ff-9fe7-40c0-90f9-9eef7efdfcbc div.sk-toggleable__content pre {margin: 0.2em;color: black;border-radius: 0.25em;background-color: #f0f8ff;}#sk-a7d158ff-9fe7-40c0-90f9-9eef7efdfcbc input.sk-toggleable__control:checked~div.sk-toggleable__content {max-height: 200px;max-width: 100%;overflow: auto;}#sk-a7d158ff-9fe7-40c0-90f9-9eef7efdfcbc input.sk-toggleable__control:checked~label.sk-toggleable__label-arrow:before {content: \"▾\";}#sk-a7d158ff-9fe7-40c0-90f9-9eef7efdfcbc div.sk-estimator input.sk-toggleable__control:checked~label.sk-toggleable__label {background-color: #d4ebff;}#sk-a7d158ff-9fe7-40c0-90f9-9eef7efdfcbc div.sk-label input.sk-toggleable__control:checked~label.sk-toggleable__label {background-color: #d4ebff;}#sk-a7d158ff-9fe7-40c0-90f9-9eef7efdfcbc input.sk-hidden--visually {border: 0;clip: rect(1px 1px 1px 1px);clip: rect(1px, 1px, 1px, 1px);height: 1px;margin: -1px;overflow: hidden;padding: 0;position: absolute;width: 1px;}#sk-a7d158ff-9fe7-40c0-90f9-9eef7efdfcbc div.sk-estimator {font-family: monospace;background-color: #f0f8ff;border: 1px dotted black;border-radius: 0.25em;box-sizing: border-box;margin-bottom: 0.5em;}#sk-a7d158ff-9fe7-40c0-90f9-9eef7efdfcbc div.sk-estimator:hover {background-color: #d4ebff;}#sk-a7d158ff-9fe7-40c0-90f9-9eef7efdfcbc div.sk-parallel-item::after {content: \"\";width: 100%;border-bottom: 1px solid gray;flex-grow: 1;}#sk-a7d158ff-9fe7-40c0-90f9-9eef7efdfcbc div.sk-label:hover label.sk-toggleable__label {background-color: #d4ebff;}#sk-a7d158ff-9fe7-40c0-90f9-9eef7efdfcbc div.sk-serial::before {content: \"\";position: absolute;border-left: 1px solid gray;box-sizing: border-box;top: 2em;bottom: 0;left: 50%;}#sk-a7d158ff-9fe7-40c0-90f9-9eef7efdfcbc div.sk-serial {display: flex;flex-direction: column;align-items: center;background-color: white;padding-right: 0.2em;padding-left: 0.2em;}#sk-a7d158ff-9fe7-40c0-90f9-9eef7efdfcbc div.sk-item {z-index: 1;}#sk-a7d158ff-9fe7-40c0-90f9-9eef7efdfcbc div.sk-parallel {display: flex;align-items: stretch;justify-content: center;background-color: white;}#sk-a7d158ff-9fe7-40c0-90f9-9eef7efdfcbc div.sk-parallel::before {content: \"\";position: absolute;border-left: 1px solid gray;box-sizing: border-box;top: 2em;bottom: 0;left: 50%;}#sk-a7d158ff-9fe7-40c0-90f9-9eef7efdfcbc div.sk-parallel-item {display: flex;flex-direction: column;position: relative;background-color: white;}#sk-a7d158ff-9fe7-40c0-90f9-9eef7efdfcbc div.sk-parallel-item:first-child::after {align-self: flex-end;width: 50%;}#sk-a7d158ff-9fe7-40c0-90f9-9eef7efdfcbc div.sk-parallel-item:last-child::after {align-self: flex-start;width: 50%;}#sk-a7d158ff-9fe7-40c0-90f9-9eef7efdfcbc div.sk-parallel-item:only-child::after {width: 0;}#sk-a7d158ff-9fe7-40c0-90f9-9eef7efdfcbc div.sk-dashed-wrapped {border: 1px dashed gray;margin: 0 0.4em 0.5em 0.4em;box-sizing: border-box;padding-bottom: 0.4em;background-color: white;position: relative;}#sk-a7d158ff-9fe7-40c0-90f9-9eef7efdfcbc div.sk-label label {font-family: monospace;font-weight: bold;background-color: white;display: inline-block;line-height: 1.2em;}#sk-a7d158ff-9fe7-40c0-90f9-9eef7efdfcbc div.sk-label-container {position: relative;z-index: 2;text-align: center;}#sk-a7d158ff-9fe7-40c0-90f9-9eef7efdfcbc div.sk-container {/* jupyter's `normalize.less` sets `[hidden] { display: none; }` but bootstrap.min.css set `[hidden] { display: none !important; }` so we also need the `!important` here to be able to override the default hidden behavior on the sphinx rendered scikit-learn.org. See: https://github.com/scikit-learn/scikit-learn/issues/21755 */display: inline-block !important;position: relative;}#sk-a7d158ff-9fe7-40c0-90f9-9eef7efdfcbc div.sk-text-repr-fallback {display: none;}</style><div id=\"sk-a7d158ff-9fe7-40c0-90f9-9eef7efdfcbc\" class=\"sk-top-container\"><div class=\"sk-text-repr-fallback\"><pre>ColumnTransformer(transformers=[(&#x27;num&#x27;,\n",
       "                                 Pipeline(steps=[(&#x27;imputer&#x27;,\n",
       "                                                  SimpleImputer(strategy=&#x27;median&#x27;)),\n",
       "                                                 (&#x27;scaler&#x27;, StandardScaler())]),\n",
       "                                 [&#x27;Unnamed: 0&#x27;, &#x27;PRBUsageUL&#x27;, &#x27;PRBUsageDL&#x27;,\n",
       "                                  &#x27;meanThr_DL&#x27;, &#x27;meanThr_UL&#x27;, &#x27;maxThr_DL&#x27;,\n",
       "                                  &#x27;maxThr_UL&#x27;, &#x27;meanUE_DL&#x27;, &#x27;meanUE_UL&#x27;,\n",
       "                                  &#x27;maxUE_DL&#x27;, &#x27;maxUE_UL&#x27;]),\n",
       "                                (&#x27;cat&#x27;,\n",
       "                                 Pipeline(steps=[(&#x27;encoder&#x27;,\n",
       "                                                  OneHotEncoder(categories=[array([&#x27;9ALTE&#x27;, &#x27;4CLTE&#x27;, &#x27;6ALTE&#x27;, &#x27;7WLTE&#x27;, &#x27;6ULTE&#x27;, &#x27;1BLTE&#x27;, &#x27;10BLTE&#x27;,\n",
       "       &#x27;6WLTE&#x27;, &#x27;3CLTE&#x27;, &#x27;5ALTE&#x27;, &#x27;10CLTE&#x27;, &#x27;1CLTE&#x27;, &#x27;8CLTE&#x27;, &#x27;7ALTE&#x27;,\n",
       "       &#x27;5BLTE&#x27;, &#x27;10ALTE&#x27;, &#x27;7BLTE&#x27;, &#x27;5CLTE&#x27;, &#x27;7VLTE&#x27;, &#x27;3BLTE&#x27;, &#x27;8ALTE&#x27;,\n",
       "       &#x27;4ALTE&#x27;, &#x27;6CLTE&#x27;, &#x27;7ULTE&#x27;, &#x27;6BLTE&#x27;, &#x27;3ALTE&#x27;, &#x27;7CLTE&#x27;, &#x27;6VLTE&#x27;,\n",
       "       &#x27;1ALTE&#x27;, &#x27;2ALTE&#x27;, &#x27;9BLTE&#x27;, &#x27;4BLTE&#x27;, &#x27;8BLTE&#x27;], dtype=object)]))]),\n",
       "                                 [&#x27;CellName&#x27;])])</pre><b>Please rerun this cell to show the HTML repr or trust the notebook.</b></div><div class=\"sk-container\" hidden><div class=\"sk-item sk-dashed-wrapped\"><div class=\"sk-label-container\"><div class=\"sk-label sk-toggleable\"><input class=\"sk-toggleable__control sk-hidden--visually\" id=\"47254f2f-99f9-4403-9bb5-e1999fcb82c4\" type=\"checkbox\" ><label for=\"47254f2f-99f9-4403-9bb5-e1999fcb82c4\" class=\"sk-toggleable__label sk-toggleable__label-arrow\">ColumnTransformer</label><div class=\"sk-toggleable__content\"><pre>ColumnTransformer(transformers=[(&#x27;num&#x27;,\n",
       "                                 Pipeline(steps=[(&#x27;imputer&#x27;,\n",
       "                                                  SimpleImputer(strategy=&#x27;median&#x27;)),\n",
       "                                                 (&#x27;scaler&#x27;, StandardScaler())]),\n",
       "                                 [&#x27;Unnamed: 0&#x27;, &#x27;PRBUsageUL&#x27;, &#x27;PRBUsageDL&#x27;,\n",
       "                                  &#x27;meanThr_DL&#x27;, &#x27;meanThr_UL&#x27;, &#x27;maxThr_DL&#x27;,\n",
       "                                  &#x27;maxThr_UL&#x27;, &#x27;meanUE_DL&#x27;, &#x27;meanUE_UL&#x27;,\n",
       "                                  &#x27;maxUE_DL&#x27;, &#x27;maxUE_UL&#x27;]),\n",
       "                                (&#x27;cat&#x27;,\n",
       "                                 Pipeline(steps=[(&#x27;encoder&#x27;,\n",
       "                                                  OneHotEncoder(categories=[array([&#x27;9ALTE&#x27;, &#x27;4CLTE&#x27;, &#x27;6ALTE&#x27;, &#x27;7WLTE&#x27;, &#x27;6ULTE&#x27;, &#x27;1BLTE&#x27;, &#x27;10BLTE&#x27;,\n",
       "       &#x27;6WLTE&#x27;, &#x27;3CLTE&#x27;, &#x27;5ALTE&#x27;, &#x27;10CLTE&#x27;, &#x27;1CLTE&#x27;, &#x27;8CLTE&#x27;, &#x27;7ALTE&#x27;,\n",
       "       &#x27;5BLTE&#x27;, &#x27;10ALTE&#x27;, &#x27;7BLTE&#x27;, &#x27;5CLTE&#x27;, &#x27;7VLTE&#x27;, &#x27;3BLTE&#x27;, &#x27;8ALTE&#x27;,\n",
       "       &#x27;4ALTE&#x27;, &#x27;6CLTE&#x27;, &#x27;7ULTE&#x27;, &#x27;6BLTE&#x27;, &#x27;3ALTE&#x27;, &#x27;7CLTE&#x27;, &#x27;6VLTE&#x27;,\n",
       "       &#x27;1ALTE&#x27;, &#x27;2ALTE&#x27;, &#x27;9BLTE&#x27;, &#x27;4BLTE&#x27;, &#x27;8BLTE&#x27;], dtype=object)]))]),\n",
       "                                 [&#x27;CellName&#x27;])])</pre></div></div></div><div class=\"sk-parallel\"><div class=\"sk-parallel-item\"><div class=\"sk-item\"><div class=\"sk-label-container\"><div class=\"sk-label sk-toggleable\"><input class=\"sk-toggleable__control sk-hidden--visually\" id=\"c4a6f377-5a05-4f8e-88b6-3bb610d22fd6\" type=\"checkbox\" ><label for=\"c4a6f377-5a05-4f8e-88b6-3bb610d22fd6\" class=\"sk-toggleable__label sk-toggleable__label-arrow\">num</label><div class=\"sk-toggleable__content\"><pre>[&#x27;Unnamed: 0&#x27;, &#x27;PRBUsageUL&#x27;, &#x27;PRBUsageDL&#x27;, &#x27;meanThr_DL&#x27;, &#x27;meanThr_UL&#x27;, &#x27;maxThr_DL&#x27;, &#x27;maxThr_UL&#x27;, &#x27;meanUE_DL&#x27;, &#x27;meanUE_UL&#x27;, &#x27;maxUE_DL&#x27;, &#x27;maxUE_UL&#x27;]</pre></div></div></div><div class=\"sk-serial\"><div class=\"sk-item\"><div class=\"sk-serial\"><div class=\"sk-item\"><div class=\"sk-estimator sk-toggleable\"><input class=\"sk-toggleable__control sk-hidden--visually\" id=\"1cc95165-f9a0-44f3-bdb2-042274d8929b\" type=\"checkbox\" ><label for=\"1cc95165-f9a0-44f3-bdb2-042274d8929b\" class=\"sk-toggleable__label sk-toggleable__label-arrow\">SimpleImputer</label><div class=\"sk-toggleable__content\"><pre>SimpleImputer(strategy=&#x27;median&#x27;)</pre></div></div></div><div class=\"sk-item\"><div class=\"sk-estimator sk-toggleable\"><input class=\"sk-toggleable__control sk-hidden--visually\" id=\"81e24656-bbce-4290-ad74-60ba76a7a782\" type=\"checkbox\" ><label for=\"81e24656-bbce-4290-ad74-60ba76a7a782\" class=\"sk-toggleable__label sk-toggleable__label-arrow\">StandardScaler</label><div class=\"sk-toggleable__content\"><pre>StandardScaler()</pre></div></div></div></div></div></div></div></div><div class=\"sk-parallel-item\"><div class=\"sk-item\"><div class=\"sk-label-container\"><div class=\"sk-label sk-toggleable\"><input class=\"sk-toggleable__control sk-hidden--visually\" id=\"05e8a5be-c136-4195-a126-d30ce5caec81\" type=\"checkbox\" ><label for=\"05e8a5be-c136-4195-a126-d30ce5caec81\" class=\"sk-toggleable__label sk-toggleable__label-arrow\">cat</label><div class=\"sk-toggleable__content\"><pre>[&#x27;CellName&#x27;]</pre></div></div></div><div class=\"sk-serial\"><div class=\"sk-item\"><div class=\"sk-serial\"><div class=\"sk-item\"><div class=\"sk-estimator sk-toggleable\"><input class=\"sk-toggleable__control sk-hidden--visually\" id=\"1e510ab1-1aea-48a1-89c2-28b147eb26a3\" type=\"checkbox\" ><label for=\"1e510ab1-1aea-48a1-89c2-28b147eb26a3\" class=\"sk-toggleable__label sk-toggleable__label-arrow\">OneHotEncoder</label><div class=\"sk-toggleable__content\"><pre>OneHotEncoder(categories=[array([&#x27;9ALTE&#x27;, &#x27;4CLTE&#x27;, &#x27;6ALTE&#x27;, &#x27;7WLTE&#x27;, &#x27;6ULTE&#x27;, &#x27;1BLTE&#x27;, &#x27;10BLTE&#x27;,\n",
       "       &#x27;6WLTE&#x27;, &#x27;3CLTE&#x27;, &#x27;5ALTE&#x27;, &#x27;10CLTE&#x27;, &#x27;1CLTE&#x27;, &#x27;8CLTE&#x27;, &#x27;7ALTE&#x27;,\n",
       "       &#x27;5BLTE&#x27;, &#x27;10ALTE&#x27;, &#x27;7BLTE&#x27;, &#x27;5CLTE&#x27;, &#x27;7VLTE&#x27;, &#x27;3BLTE&#x27;, &#x27;8ALTE&#x27;,\n",
       "       &#x27;4ALTE&#x27;, &#x27;6CLTE&#x27;, &#x27;7ULTE&#x27;, &#x27;6BLTE&#x27;, &#x27;3ALTE&#x27;, &#x27;7CLTE&#x27;, &#x27;6VLTE&#x27;,\n",
       "       &#x27;1ALTE&#x27;, &#x27;2ALTE&#x27;, &#x27;9BLTE&#x27;, &#x27;4BLTE&#x27;, &#x27;8BLTE&#x27;], dtype=object)])</pre></div></div></div></div></div></div></div></div></div></div></div></div>"
      ],
      "text/plain": [
       "ColumnTransformer(transformers=[('num',\n",
       "                                 Pipeline(steps=[('imputer',\n",
       "                                                  SimpleImputer(strategy='median')),\n",
       "                                                 ('scaler', StandardScaler())]),\n",
       "                                 ['Unnamed: 0', 'PRBUsageUL', 'PRBUsageDL',\n",
       "                                  'meanThr_DL', 'meanThr_UL', 'maxThr_DL',\n",
       "                                  'maxThr_UL', 'meanUE_DL', 'meanUE_UL',\n",
       "                                  'maxUE_DL', 'maxUE_UL']),\n",
       "                                ('cat',\n",
       "                                 Pipeline(steps=[('encoder',\n",
       "                                                  OneHotEncoder(categories=[array(['9ALTE', '4CLTE', '6ALTE', '7WLTE', '6ULTE', '1BLTE', '10BLTE',\n",
       "       '6WLTE', '3CLTE', '5ALTE', '10CLTE', '1CLTE', '8CLTE', '7ALTE',\n",
       "       '5BLTE', '10ALTE', '7BLTE', '5CLTE', '7VLTE', '3BLTE', '8ALTE',\n",
       "       '4ALTE', '6CLTE', '7ULTE', '6BLTE', '3ALTE', '7CLTE', '6VLTE',\n",
       "       '1ALTE', '2ALTE', '9BLTE', '4BLTE', '8BLTE'], dtype=object)]))]),\n",
       "                                 ['CellName'])])"
      ]
     },
     "execution_count": 50,
     "metadata": {},
     "output_type": "execute_result"
    }
   ],
   "source": [
    "set_config(display=\"diagram\")\n",
    "preprocessor"
   ]
  },
  {
   "cell_type": "code",
   "execution_count": 52,
   "id": "05bcad7c",
   "metadata": {},
   "outputs": [],
   "source": [
    "#X_processed = preprocess(X_test)\n",
    "#print(X_processed.shap)\n",
    "#column_names = pipe.named_steps['preprocessor'].transformers_[1][1]\\\n",
    "#   .named_steps[\"encoder\"].get_feature_names(categorical_features)\n",
    "# Create new pandas dataframe with transformed data and column names\n",
    "#df_transformed = pd.DataFrame(X_processed, columns=np.concatenate((column_names, numeric_features)))"
   ]
  },
  {
   "cell_type": "code",
   "execution_count": null,
   "id": "4538a64f",
   "metadata": {},
   "outputs": [],
   "source": []
  },
  {
   "cell_type": "code",
   "execution_count": null,
   "id": "ac95ecb8",
   "metadata": {},
   "outputs": [],
   "source": []
  }
 ],
 "metadata": {
  "kernelspec": {
   "display_name": "Python 3 (ipykernel)",
   "language": "python",
   "name": "python3"
  },
  "language_info": {
   "codemirror_mode": {
    "name": "ipython",
    "version": 3
   },
   "file_extension": ".py",
   "mimetype": "text/x-python",
   "name": "python",
   "nbconvert_exporter": "python",
   "pygments_lexer": "ipython3",
   "version": "3.9.13"
  },
  "vscode": {
   "interpreter": {
    "hash": "31f2aee4e71d21fbe5cf8b01ff0e069b9275f58929596ceb00d14d90e3e16cd6"
   }
  }
 },
 "nbformat": 4,
 "nbformat_minor": 5
}
