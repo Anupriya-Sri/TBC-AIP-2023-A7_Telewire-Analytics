{
 "cells": [
  {
   "cell_type": "code",
   "execution_count": 21,
   "id": "2705fbff",
   "metadata": {},
   "outputs": [],
   "source": [
    "import numpy as np\n",
    "# import matplotlib.pyplot as plt\n",
    "import pandas as pd\n",
    "from sklearn.model_selection import train_test_split\n",
    "from sklearn.pipeline import Pipeline\n",
    "from sklearn.impute import SimpleImputer\n",
    "from sklearn.preprocessing import StandardScaler, OneHotEncoder\n",
    "from sklearn.compose import ColumnTransformer\n",
    "from sklearn.feature_selection import SelectPercentile, chi2\n",
    "import joblib\n",
    "from sklearn import set_config"
   ]
  },
  {
   "cell_type": "code",
   "execution_count": 12,
   "id": "0a971910",
   "metadata": {},
   "outputs": [],
   "source": [
    "train_data = pd.read_csv('../../data/raw/train.csv',  encoding= 'unicode_escape')\n",
    "y_train = train_data[\"Unusual\"]                      #defining the labels\n",
    "X_train = train_data.drop([\"Unusual\"], axis=1)"
   ]
  },
  {
   "cell_type": "code",
   "execution_count": 13,
   "id": "0bb1ae7d",
   "metadata": {},
   "outputs": [],
   "source": [
    "numeric_features = X_train.select_dtypes(exclude=['object']).columns.tolist()\n",
    "\n",
    "numeric_transformer = Pipeline(\n",
    "    steps=[(\"imputer\", SimpleImputer(strategy=\"median\")), (\"scaler\", StandardScaler())]\n",
    ")"
   ]
  },
  {
   "cell_type": "code",
   "execution_count": 14,
   "id": "31ad61b3",
   "metadata": {},
   "outputs": [],
   "source": [
    "# Define custom transformers\n",
    "class CustomTransformer:\n",
    "    def __init__(self, parameter):\n",
    "        self.parameter = parameter\n",
    "    \n",
    "    def fit(self, X, y=None):\n",
    "        return self\n",
    "    \n",
    "    def transform(self, X):\n",
    "        # perform custom transformation\n",
    "        return X"
   ]
  },
  {
   "cell_type": "code",
   "execution_count": 15,
   "id": "cbeed5d5",
   "metadata": {},
   "outputs": [
    {
     "ename": "NameError",
     "evalue": "name 'X_test' is not defined",
     "output_type": "error",
     "traceback": [
      "\u001b[0;31m---------------------------------------------------------------------------\u001b[0m",
      "\u001b[0;31mNameError\u001b[0m                                 Traceback (most recent call last)",
      "\u001b[0;32m/var/folders/mx/8zvkzt1x555_s34gl973n_100000gn/T/ipykernel_92251/754253579.py\u001b[0m in \u001b[0;36m<module>\u001b[0;34m\u001b[0m\n\u001b[1;32m      1\u001b[0m \u001b[0;31m# Create a list of all possible categories across both datasets\u001b[0m\u001b[0;34m\u001b[0m\u001b[0;34m\u001b[0m\u001b[0m\n\u001b[0;32m----> 2\u001b[0;31m \u001b[0mcategories\u001b[0m \u001b[0;34m=\u001b[0m \u001b[0mpd\u001b[0m\u001b[0;34m.\u001b[0m\u001b[0mconcat\u001b[0m\u001b[0;34m(\u001b[0m\u001b[0;34m[\u001b[0m\u001b[0mX_train\u001b[0m\u001b[0;34m,\u001b[0m \u001b[0mX_test\u001b[0m\u001b[0;34m]\u001b[0m\u001b[0;34m)\u001b[0m\u001b[0;34m[\u001b[0m\u001b[0;34m'CellName'\u001b[0m\u001b[0;34m]\u001b[0m\u001b[0;34m.\u001b[0m\u001b[0munique\u001b[0m\u001b[0;34m(\u001b[0m\u001b[0;34m)\u001b[0m\u001b[0;34m\u001b[0m\u001b[0;34m\u001b[0m\u001b[0m\n\u001b[0m\u001b[1;32m      3\u001b[0m \u001b[0mcategorical_features\u001b[0m \u001b[0;34m=\u001b[0m \u001b[0;34m[\u001b[0m\u001b[0;34m'CellName'\u001b[0m\u001b[0;34m]\u001b[0m\u001b[0;34m\u001b[0m\u001b[0;34m\u001b[0m\u001b[0m\n\u001b[1;32m      4\u001b[0m categorical_transformer = Pipeline(\n\u001b[1;32m      5\u001b[0m     steps=[\n",
      "\u001b[0;31mNameError\u001b[0m: name 'X_test' is not defined"
     ]
    }
   ],
   "source": [
    "# Create a list of all possible categories across both datasets\n",
    "categories = pd.concat([X_train, X_test])['CellName'].unique()\n",
    "categorical_features = ['CellName']\n",
    "categorical_transformer = Pipeline(\n",
    "    steps=[\n",
    "        #(\"encoder\", OneHotEncoder(handle_unknown=\"ignore\"))\n",
    "        ('encoder', OneHotEncoder(categories=[categories]))\n",
    "    ]\n",
    ")"
   ]
  },
  {
   "cell_type": "code",
   "execution_count": 16,
   "id": "68705ea0",
   "metadata": {},
   "outputs": [],
   "source": [
    "preprocessor = ColumnTransformer(\n",
    "    transformers=[\n",
    "        (\"num\", numeric_transformer, numeric_features),\n",
    "        (\"cat\", categorical_transformer, categorical_features),\n",
    "    ]\n",
    ")"
   ]
  },
  {
   "cell_type": "code",
   "execution_count": 17,
   "id": "d4878246",
   "metadata": {},
   "outputs": [
    {
     "name": "stdout",
     "output_type": "stream",
     "text": [
      "ColumnTransformer(transformers=[('num',\n",
      "                                 Pipeline(steps=[('imputer',\n",
      "                                                  SimpleImputer(strategy='median')),\n",
      "                                                 ('scaler', StandardScaler())]),\n",
      "                                 ['Unnamed: 0', 'PRBUsageUL', 'PRBUsageDL',\n",
      "                                  'meanThr_DL', 'meanThr_UL', 'maxThr_DL',\n",
      "                                  'maxThr_UL', 'meanUE_DL', 'meanUE_UL',\n",
      "                                  'maxUE_DL', 'maxUE_UL']),\n",
      "                                ('cat',\n",
      "                                 Pipeline(steps=[('encoder',\n",
      "                                                  OneHotEncoder(handle_unknown='ignore'))]),\n",
      "                                 ['CellName'])])\n"
     ]
    }
   ],
   "source": [
    "# fit the preprocessor on the data\n",
    "preprocessor.fit(X_train)\n",
    "print(preprocessor)"
   ]
  },
  {
   "cell_type": "code",
   "execution_count": 18,
   "id": "b1800ace",
   "metadata": {},
   "outputs": [
    {
     "data": {
      "text/plain": [
       "['PreprocessingPipeline.joblib']"
      ]
     },
     "execution_count": 18,
     "metadata": {},
     "output_type": "execute_result"
    }
   ],
   "source": [
    "joblib.dump(preprocessor, 'PreprocessingPipeline.joblib')"
   ]
  },
  {
   "cell_type": "markdown",
   "id": "d2e8f786",
   "metadata": {},
   "source": [
    "TEST"
   ]
  },
  {
   "cell_type": "code",
   "execution_count": 22,
   "id": "beae1407",
   "metadata": {},
   "outputs": [
    {
     "data": {
      "text/html": [
       "<style>#sk-8c3d6fde-d9aa-455a-9c0e-ede7b85e0250 {color: black;background-color: white;}#sk-8c3d6fde-d9aa-455a-9c0e-ede7b85e0250 pre{padding: 0;}#sk-8c3d6fde-d9aa-455a-9c0e-ede7b85e0250 div.sk-toggleable {background-color: white;}#sk-8c3d6fde-d9aa-455a-9c0e-ede7b85e0250 label.sk-toggleable__label {cursor: pointer;display: block;width: 100%;margin-bottom: 0;padding: 0.3em;box-sizing: border-box;text-align: center;}#sk-8c3d6fde-d9aa-455a-9c0e-ede7b85e0250 label.sk-toggleable__label-arrow:before {content: \"▸\";float: left;margin-right: 0.25em;color: #696969;}#sk-8c3d6fde-d9aa-455a-9c0e-ede7b85e0250 label.sk-toggleable__label-arrow:hover:before {color: black;}#sk-8c3d6fde-d9aa-455a-9c0e-ede7b85e0250 div.sk-estimator:hover label.sk-toggleable__label-arrow:before {color: black;}#sk-8c3d6fde-d9aa-455a-9c0e-ede7b85e0250 div.sk-toggleable__content {max-height: 0;max-width: 0;overflow: hidden;text-align: left;background-color: #f0f8ff;}#sk-8c3d6fde-d9aa-455a-9c0e-ede7b85e0250 div.sk-toggleable__content pre {margin: 0.2em;color: black;border-radius: 0.25em;background-color: #f0f8ff;}#sk-8c3d6fde-d9aa-455a-9c0e-ede7b85e0250 input.sk-toggleable__control:checked~div.sk-toggleable__content {max-height: 200px;max-width: 100%;overflow: auto;}#sk-8c3d6fde-d9aa-455a-9c0e-ede7b85e0250 input.sk-toggleable__control:checked~label.sk-toggleable__label-arrow:before {content: \"▾\";}#sk-8c3d6fde-d9aa-455a-9c0e-ede7b85e0250 div.sk-estimator input.sk-toggleable__control:checked~label.sk-toggleable__label {background-color: #d4ebff;}#sk-8c3d6fde-d9aa-455a-9c0e-ede7b85e0250 div.sk-label input.sk-toggleable__control:checked~label.sk-toggleable__label {background-color: #d4ebff;}#sk-8c3d6fde-d9aa-455a-9c0e-ede7b85e0250 input.sk-hidden--visually {border: 0;clip: rect(1px 1px 1px 1px);clip: rect(1px, 1px, 1px, 1px);height: 1px;margin: -1px;overflow: hidden;padding: 0;position: absolute;width: 1px;}#sk-8c3d6fde-d9aa-455a-9c0e-ede7b85e0250 div.sk-estimator {font-family: monospace;background-color: #f0f8ff;border: 1px dotted black;border-radius: 0.25em;box-sizing: border-box;margin-bottom: 0.5em;}#sk-8c3d6fde-d9aa-455a-9c0e-ede7b85e0250 div.sk-estimator:hover {background-color: #d4ebff;}#sk-8c3d6fde-d9aa-455a-9c0e-ede7b85e0250 div.sk-parallel-item::after {content: \"\";width: 100%;border-bottom: 1px solid gray;flex-grow: 1;}#sk-8c3d6fde-d9aa-455a-9c0e-ede7b85e0250 div.sk-label:hover label.sk-toggleable__label {background-color: #d4ebff;}#sk-8c3d6fde-d9aa-455a-9c0e-ede7b85e0250 div.sk-serial::before {content: \"\";position: absolute;border-left: 1px solid gray;box-sizing: border-box;top: 2em;bottom: 0;left: 50%;}#sk-8c3d6fde-d9aa-455a-9c0e-ede7b85e0250 div.sk-serial {display: flex;flex-direction: column;align-items: center;background-color: white;padding-right: 0.2em;padding-left: 0.2em;}#sk-8c3d6fde-d9aa-455a-9c0e-ede7b85e0250 div.sk-item {z-index: 1;}#sk-8c3d6fde-d9aa-455a-9c0e-ede7b85e0250 div.sk-parallel {display: flex;align-items: stretch;justify-content: center;background-color: white;}#sk-8c3d6fde-d9aa-455a-9c0e-ede7b85e0250 div.sk-parallel::before {content: \"\";position: absolute;border-left: 1px solid gray;box-sizing: border-box;top: 2em;bottom: 0;left: 50%;}#sk-8c3d6fde-d9aa-455a-9c0e-ede7b85e0250 div.sk-parallel-item {display: flex;flex-direction: column;position: relative;background-color: white;}#sk-8c3d6fde-d9aa-455a-9c0e-ede7b85e0250 div.sk-parallel-item:first-child::after {align-self: flex-end;width: 50%;}#sk-8c3d6fde-d9aa-455a-9c0e-ede7b85e0250 div.sk-parallel-item:last-child::after {align-self: flex-start;width: 50%;}#sk-8c3d6fde-d9aa-455a-9c0e-ede7b85e0250 div.sk-parallel-item:only-child::after {width: 0;}#sk-8c3d6fde-d9aa-455a-9c0e-ede7b85e0250 div.sk-dashed-wrapped {border: 1px dashed gray;margin: 0 0.4em 0.5em 0.4em;box-sizing: border-box;padding-bottom: 0.4em;background-color: white;position: relative;}#sk-8c3d6fde-d9aa-455a-9c0e-ede7b85e0250 div.sk-label label {font-family: monospace;font-weight: bold;background-color: white;display: inline-block;line-height: 1.2em;}#sk-8c3d6fde-d9aa-455a-9c0e-ede7b85e0250 div.sk-label-container {position: relative;z-index: 2;text-align: center;}#sk-8c3d6fde-d9aa-455a-9c0e-ede7b85e0250 div.sk-container {/* jupyter's `normalize.less` sets `[hidden] { display: none; }` but bootstrap.min.css set `[hidden] { display: none !important; }` so we also need the `!important` here to be able to override the default hidden behavior on the sphinx rendered scikit-learn.org. See: https://github.com/scikit-learn/scikit-learn/issues/21755 */display: inline-block !important;position: relative;}#sk-8c3d6fde-d9aa-455a-9c0e-ede7b85e0250 div.sk-text-repr-fallback {display: none;}</style><div id=\"sk-8c3d6fde-d9aa-455a-9c0e-ede7b85e0250\" class=\"sk-top-container\"><div class=\"sk-text-repr-fallback\"><pre>ColumnTransformer(transformers=[(&#x27;num&#x27;,\n",
       "                                 Pipeline(steps=[(&#x27;imputer&#x27;,\n",
       "                                                  SimpleImputer(strategy=&#x27;median&#x27;)),\n",
       "                                                 (&#x27;scaler&#x27;, StandardScaler())]),\n",
       "                                 [&#x27;Unnamed: 0&#x27;, &#x27;PRBUsageUL&#x27;, &#x27;PRBUsageDL&#x27;,\n",
       "                                  &#x27;meanThr_DL&#x27;, &#x27;meanThr_UL&#x27;, &#x27;maxThr_DL&#x27;,\n",
       "                                  &#x27;maxThr_UL&#x27;, &#x27;meanUE_DL&#x27;, &#x27;meanUE_UL&#x27;,\n",
       "                                  &#x27;maxUE_DL&#x27;, &#x27;maxUE_UL&#x27;]),\n",
       "                                (&#x27;cat&#x27;,\n",
       "                                 Pipeline(steps=[(&#x27;encoder&#x27;,\n",
       "                                                  OneHotEncoder(handle_unknown=&#x27;ignore&#x27;))]),\n",
       "                                 [&#x27;CellName&#x27;])])</pre><b>Please rerun this cell to show the HTML repr or trust the notebook.</b></div><div class=\"sk-container\" hidden><div class=\"sk-item sk-dashed-wrapped\"><div class=\"sk-label-container\"><div class=\"sk-label sk-toggleable\"><input class=\"sk-toggleable__control sk-hidden--visually\" id=\"8a284ff7-bfce-4298-ae98-06e63046be0f\" type=\"checkbox\" ><label for=\"8a284ff7-bfce-4298-ae98-06e63046be0f\" class=\"sk-toggleable__label sk-toggleable__label-arrow\">ColumnTransformer</label><div class=\"sk-toggleable__content\"><pre>ColumnTransformer(transformers=[(&#x27;num&#x27;,\n",
       "                                 Pipeline(steps=[(&#x27;imputer&#x27;,\n",
       "                                                  SimpleImputer(strategy=&#x27;median&#x27;)),\n",
       "                                                 (&#x27;scaler&#x27;, StandardScaler())]),\n",
       "                                 [&#x27;Unnamed: 0&#x27;, &#x27;PRBUsageUL&#x27;, &#x27;PRBUsageDL&#x27;,\n",
       "                                  &#x27;meanThr_DL&#x27;, &#x27;meanThr_UL&#x27;, &#x27;maxThr_DL&#x27;,\n",
       "                                  &#x27;maxThr_UL&#x27;, &#x27;meanUE_DL&#x27;, &#x27;meanUE_UL&#x27;,\n",
       "                                  &#x27;maxUE_DL&#x27;, &#x27;maxUE_UL&#x27;]),\n",
       "                                (&#x27;cat&#x27;,\n",
       "                                 Pipeline(steps=[(&#x27;encoder&#x27;,\n",
       "                                                  OneHotEncoder(handle_unknown=&#x27;ignore&#x27;))]),\n",
       "                                 [&#x27;CellName&#x27;])])</pre></div></div></div><div class=\"sk-parallel\"><div class=\"sk-parallel-item\"><div class=\"sk-item\"><div class=\"sk-label-container\"><div class=\"sk-label sk-toggleable\"><input class=\"sk-toggleable__control sk-hidden--visually\" id=\"03cb8100-f594-43f7-9fc6-221b6d509e56\" type=\"checkbox\" ><label for=\"03cb8100-f594-43f7-9fc6-221b6d509e56\" class=\"sk-toggleable__label sk-toggleable__label-arrow\">num</label><div class=\"sk-toggleable__content\"><pre>[&#x27;Unnamed: 0&#x27;, &#x27;PRBUsageUL&#x27;, &#x27;PRBUsageDL&#x27;, &#x27;meanThr_DL&#x27;, &#x27;meanThr_UL&#x27;, &#x27;maxThr_DL&#x27;, &#x27;maxThr_UL&#x27;, &#x27;meanUE_DL&#x27;, &#x27;meanUE_UL&#x27;, &#x27;maxUE_DL&#x27;, &#x27;maxUE_UL&#x27;]</pre></div></div></div><div class=\"sk-serial\"><div class=\"sk-item\"><div class=\"sk-serial\"><div class=\"sk-item\"><div class=\"sk-estimator sk-toggleable\"><input class=\"sk-toggleable__control sk-hidden--visually\" id=\"088a766e-b784-4a36-a49e-5ae4725b308b\" type=\"checkbox\" ><label for=\"088a766e-b784-4a36-a49e-5ae4725b308b\" class=\"sk-toggleable__label sk-toggleable__label-arrow\">SimpleImputer</label><div class=\"sk-toggleable__content\"><pre>SimpleImputer(strategy=&#x27;median&#x27;)</pre></div></div></div><div class=\"sk-item\"><div class=\"sk-estimator sk-toggleable\"><input class=\"sk-toggleable__control sk-hidden--visually\" id=\"d52ddfad-d6b2-4e9f-8577-58cd24f29202\" type=\"checkbox\" ><label for=\"d52ddfad-d6b2-4e9f-8577-58cd24f29202\" class=\"sk-toggleable__label sk-toggleable__label-arrow\">StandardScaler</label><div class=\"sk-toggleable__content\"><pre>StandardScaler()</pre></div></div></div></div></div></div></div></div><div class=\"sk-parallel-item\"><div class=\"sk-item\"><div class=\"sk-label-container\"><div class=\"sk-label sk-toggleable\"><input class=\"sk-toggleable__control sk-hidden--visually\" id=\"8a615074-cade-476f-89b9-03d06917df49\" type=\"checkbox\" ><label for=\"8a615074-cade-476f-89b9-03d06917df49\" class=\"sk-toggleable__label sk-toggleable__label-arrow\">cat</label><div class=\"sk-toggleable__content\"><pre>[&#x27;CellName&#x27;]</pre></div></div></div><div class=\"sk-serial\"><div class=\"sk-item\"><div class=\"sk-serial\"><div class=\"sk-item\"><div class=\"sk-estimator sk-toggleable\"><input class=\"sk-toggleable__control sk-hidden--visually\" id=\"2c3e273c-8ca1-441e-a7b2-e6a946bae288\" type=\"checkbox\" ><label for=\"2c3e273c-8ca1-441e-a7b2-e6a946bae288\" class=\"sk-toggleable__label sk-toggleable__label-arrow\">OneHotEncoder</label><div class=\"sk-toggleable__content\"><pre>OneHotEncoder(handle_unknown=&#x27;ignore&#x27;)</pre></div></div></div></div></div></div></div></div></div></div></div></div>"
      ],
      "text/plain": [
       "ColumnTransformer(transformers=[('num',\n",
       "                                 Pipeline(steps=[('imputer',\n",
       "                                                  SimpleImputer(strategy='median')),\n",
       "                                                 ('scaler', StandardScaler())]),\n",
       "                                 ['Unnamed: 0', 'PRBUsageUL', 'PRBUsageDL',\n",
       "                                  'meanThr_DL', 'meanThr_UL', 'maxThr_DL',\n",
       "                                  'maxThr_UL', 'meanUE_DL', 'meanUE_UL',\n",
       "                                  'maxUE_DL', 'maxUE_UL']),\n",
       "                                ('cat',\n",
       "                                 Pipeline(steps=[('encoder',\n",
       "                                                  OneHotEncoder(handle_unknown='ignore'))]),\n",
       "                                 ['CellName'])])"
      ]
     },
     "execution_count": 22,
     "metadata": {},
     "output_type": "execute_result"
    }
   ],
   "source": [
    "set_config(display=\"diagram\")\n",
    "preprocessor"
   ]
  },
  {
   "cell_type": "code",
   "execution_count": 9,
   "id": "658492a9",
   "metadata": {},
   "outputs": [],
   "source": [
    "#def preprocess(X):\n",
    "#    X_transformed = preprocessor.transform(X)\n",
    "#    return X_transformed"
   ]
  },
  {
   "cell_type": "code",
   "execution_count": 10,
   "id": "05bcad7c",
   "metadata": {},
   "outputs": [],
   "source": [
    "#X_processed = preprocess(X_test)\n",
    "#print(X_processed.shap)\n",
    "#column_names = pipe.named_steps['preprocessor'].transformers_[1][1]\\\n",
    "#   .named_steps[\"encoder\"].get_feature_names(categorical_features)\n",
    "# Create new pandas dataframe with transformed data and column names\n",
    "#df_transformed = pd.DataFrame(X_processed, columns=np.concatenate((column_names, numeric_features)))"
   ]
  },
  {
   "cell_type": "code",
   "execution_count": null,
   "id": "4538a64f",
   "metadata": {},
   "outputs": [],
   "source": []
  }
 ],
 "metadata": {
  "kernelspec": {
   "display_name": "Python 3 (ipykernel)",
   "language": "python",
   "name": "python3"
  },
  "language_info": {
   "codemirror_mode": {
    "name": "ipython",
    "version": 3
   },
   "file_extension": ".py",
   "mimetype": "text/x-python",
   "name": "python",
   "nbconvert_exporter": "python",
   "pygments_lexer": "ipython3",
   "version": "3.9.13"
  },
  "vscode": {
   "interpreter": {
    "hash": "1f7c1d7db85b32830ff0d55d734086d39ad7be3e9db2adfe068dfce6a42a57de"
   }
  }
 },
 "nbformat": 4,
 "nbformat_minor": 5
}
