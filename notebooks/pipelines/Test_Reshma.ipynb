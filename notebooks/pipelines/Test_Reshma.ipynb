{
 "cells": [
  {
   "cell_type": "code",
   "execution_count": null,
   "id": "03b9e3c3",
   "metadata": {},
   "outputs": [],
   "source": [
    "import numpy as np\n",
    "# import matplotlib.pyplot as plt\n",
    "import pandas as pd\n",
    "from sklearn.model_selection import train_test_split\n",
    "from sklearn.pipeline import Pipeline\n",
    "from sklearn.impute import SimpleImputer\n",
    "from sklearn.preprocessing import StandardScaler, OneHotEncoder\n",
    "from sklearn.compose import ColumnTransformer\n",
    "from sklearn.feature_selection import SelectPercentile, chi2\n",
    "import pickle\n",
    "from sklearn import set_config\n",
    "from sklearn.feature_extraction.text import CountVectorizer"
   ]
  },
  {
   "cell_type": "code",
   "execution_count": null,
   "id": "607a00ee",
   "metadata": {},
   "outputs": [],
   "source": [
    "train_data = pd.read_csv('../../data/raw/train.csv',  encoding= 'unicode_escape')\n",
    "y_train = train_data[\"Unusual\"]                      #defining the labels\n",
    "X_train = train_data.drop([\"Unusual\"], axis=1)\n",
    "test_data = pd.read_csv('../../data/raw/test.csv',  encoding= 'unicode_escape')\n",
    "y_test = test_data[\"Unusual\"]                      #defining the labels\n",
    "X_test = test_data.drop([\"Unusual\"], axis=1)\n",
    "X_train"
   ]
  },
  {
   "cell_type": "code",
   "execution_count": null,
   "id": "6b36edb0",
   "metadata": {},
   "outputs": [],
   "source": [
    "# Define custom transformers\n",
    "class CustomTransformer:\n",
    "    def __init__(self, parameter):\n",
    "        self.parameter = parameter\n",
    "    \n",
    "    def fit(self, X, y=None):\n",
    "        return self\n",
    "    \n",
    "    def transform(self, X):\n",
    "        # perform custom transformation\n",
    "        return X\n",
    "# Define a function that converts the 'date' column to datetime type\n",
    "def convert_to_datetime(X_train):\n",
    "    X_train['date_time'] = pd.to_datetime(X_train['Time'])\n",
    "    def convert_to_float(dt):\n",
    "        return dt.timestamp()\n",
    "\n",
    "# apply the conversion function to the date_time column\n",
    "    X_train['Time'] = X_train['date_time'].apply(convert_to_float)\n",
    "    X_train.drop(['date_time'],inplace=True)\n",
    "    return X_train"
   ]
  },
  {
   "cell_type": "code",
   "execution_count": null,
   "id": "0ade3a1f",
   "metadata": {},
   "outputs": [],
   "source": [
    "from sklearn.preprocessing import FunctionTransformer\n",
    "\n",
    "\n",
    "dt_feature = ['Time']\n",
    "date_time_transformer = Pipeline([\n",
    "    ('datetime_conversion', FunctionTransformer(convert_to_datetime))\n",
    "])"
   ]
  },
  {
   "cell_type": "code",
   "execution_count": null,
   "id": "71a9d8df",
   "metadata": {},
   "outputs": [],
   "source": [
    "numeric_features = X_train.select_dtypes(exclude=['object']).columns.tolist()\n",
    "\n",
    "numeric_transformer = Pipeline(\n",
    "    steps=[(\"imputer\", SimpleImputer(strategy=\"median\")), (\"scaler\", StandardScaler())]\n",
    ")"
   ]
  },
  {
   "cell_type": "code",
   "execution_count": null,
   "id": "9f967eef",
   "metadata": {},
   "outputs": [],
   "source": [
    "# Create a list of all possible categories across both datasets\n",
    "categories = pd.concat([X_train, X_test])['CellName'].unique()\n",
    "categorical_features = ['CellName']\n",
    "categorical_transformer = Pipeline(\n",
    "    steps=[\n",
    "        #(\"encoder\", OneHotEncoder(handle_unknown=\"ignore\"))\n",
    "        ('encoder', OneHotEncoder(categories=[categories]))\n",
    "    ]\n",
    ")"
   ]
  },
  {
   "cell_type": "code",
   "execution_count": null,
   "id": "0c3a1153",
   "metadata": {},
   "outputs": [],
   "source": [
    "time = ['Time']\n",
    "text_transformer = Pipeline(steps=[\n",
    "    ('countvec', CountVectorizer())\n",
    "])"
   ]
  },
  {
   "cell_type": "code",
   "execution_count": null,
   "id": "ccffee6a",
   "metadata": {},
   "outputs": [],
   "source": [
    "preprocessor = ColumnTransformer(\n",
    "    transformers=[\n",
    "        (\"dt\", date_time_transformer, dt_feature),\n",
    "        (\"num\", numeric_transformer, numeric_features),\n",
    "        (\"cat\", categorical_transformer, categorical_features),\n",
    "        \n",
    "    ],\n",
    "    remainder='drop'\n",
    ")"
   ]
  },
  {
   "cell_type": "code",
   "execution_count": null,
   "id": "135db934",
   "metadata": {},
   "outputs": [],
   "source": [
    "# fit the preprocessor on the data\n",
    "preprocessor.fit(X_train)\n",
    "print(preprocessor)"
   ]
  },
  {
   "cell_type": "code",
   "execution_count": null,
   "id": "a20594b0",
   "metadata": {},
   "outputs": [],
   "source": [
    "with open('PreprocessingPipeline.pkl', 'wb') as f:\n",
    "    # write the preprocessor object to the file\n",
    "    pickle.dump(preprocessor, f)"
   ]
  },
  {
   "cell_type": "code",
   "execution_count": null,
   "id": "5ab0a8c0",
   "metadata": {},
   "outputs": [],
   "source": [
    "set_config(display=\"diagram\")\n",
    "preprocessor"
   ]
  },
  {
   "cell_type": "code",
   "execution_count": null,
   "id": "d716df0e",
   "metadata": {},
   "outputs": [],
   "source": [
    "#X_processed = preprocess(X_test)\n",
    "#print(X_processed.shap)\n",
    "#column_names = pipe.named_steps['preprocessor'].transformers_[1][1]\\\n",
    "#   .named_steps[\"encoder\"].get_feature_names(categorical_features)\n",
    "# Create new pandas dataframe with transformed data and column names\n",
    "#df_transformed = pd.DataFrame(X_processed, columns=np.concatenate((column_names, numeric_features)))"
   ]
  },
  {
   "cell_type": "code",
   "execution_count": null,
   "id": "6211767b",
   "metadata": {},
   "outputs": [],
   "source": []
  }
 ],
 "metadata": {
  "kernelspec": {
   "display_name": "Python 3 (ipykernel)",
   "language": "python",
   "name": "python3"
  },
  "language_info": {
   "codemirror_mode": {
    "name": "ipython",
    "version": 3
   },
   "file_extension": ".py",
   "mimetype": "text/x-python",
   "name": "python",
   "nbconvert_exporter": "python",
   "pygments_lexer": "ipython3",
   "version": "3.9.7"
  }
 },
 "nbformat": 4,
 "nbformat_minor": 5
}
