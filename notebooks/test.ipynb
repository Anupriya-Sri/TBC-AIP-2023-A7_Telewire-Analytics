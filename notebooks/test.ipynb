{
 "cells": [
  {
   "cell_type": "code",
   "execution_count": null,
   "id": "0ca2961a",
   "metadata": {},
   "outputs": [],
   "source": [
    "from sklearn.model_selection import train_test_split\n",
    "import numpy as np\n",
    "import pandas as pd\n",
    "import joblib\n",
    "from sklearn.ensemble import RandomForestClassifier"
   ]
  },
  {
   "cell_type": "code",
   "execution_count": null,
   "id": "e746c7b9",
   "metadata": {},
   "outputs": [
    {
     "ename": "",
     "evalue": "",
     "output_type": "error",
     "traceback": [
      "\u001b[1;31mFailed to start the Kernel. \n",
      "\u001b[1;31mKernel Python 3.9.6 is not usable. Check the Jupyter output tab for more information. \n",
      "\u001b[1;31mView Jupyter <a href='command:jupyter.viewOutput'>log</a> for further details."
     ]
    }
   ],
   "source": [
    "train_data = pd.read_csv('../data/raw/train.csv',  encoding= 'unicode_escape')\n",
    "y = train_data[\"Unusual\"]                      #defining the labels\n",
    "X = train_data.drop([\"Unusual\"], axis=1)\n",
    "X_train, X_test, y_train, y_test = train_test_split(X, y, test_size=0.33, random_state=42)"
   ]
  },
  {
   "cell_type": "code",
   "execution_count": 19,
   "id": "b993ae21",
   "metadata": {},
   "outputs": [],
   "source": [
    "# Load the pipeline from disk using joblib\n",
    "loaded_pipeline = joblib.load('preprocessing_pipeline.joblib')\n",
    "X_processed_data = loaded_pipeline.transform(X_train)"
   ]
  },
  {
   "cell_type": "code",
   "execution_count": 18,
   "id": "aa8a62c4",
   "metadata": {},
   "outputs": [],
   "source": [
    "# Define the machine learning model\n",
    "from xgboost import XGBClassifier\n",
    "# fit model no training data\n",
    "model_xgb = XGBClassifier()\n",
    "model_xgb.fit(X_processed_data, y_train)"
   ]
  },
  {
   "cell_type": "code",
   "execution_count": 21,
   "id": "995f6486",
   "metadata": {},
   "outputs": [
    {
     "data": {
      "text/plain": [
       "RandomForestClassifier(max_depth=5)"
      ]
     },
     "execution_count": 21,
     "metadata": {},
     "output_type": "execute_result"
    }
   ],
   "source": [
    "y_pred_xgb = model_xgb.predict(X_test)"
   ]
  },
  {
   "cell_type": "code",
   "execution_count": 11,
   "id": "9851325c",
   "metadata": {},
   "outputs": [
    {
     "name": "stdout",
     "output_type": "stream",
     "text": [
      "Collecting import-ipynb\n",
      "  Downloading import_ipynb-0.1.4-py3-none-any.whl (4.1 kB)\n",
      "Requirement already satisfied: nbformat in c:\\users\\harsh patel\\appdata\\local\\programs\\python\\python310\\lib\\site-packages (from import-ipynb) (5.7.3)\n",
      "Requirement already satisfied: IPython in c:\\users\\harsh patel\\appdata\\local\\programs\\python\\python310\\lib\\site-packages (from import-ipynb) (8.10.0)\n",
      "Requirement already satisfied: pygments>=2.4.0 in c:\\users\\harsh patel\\appdata\\local\\programs\\python\\python310\\lib\\site-packages (from IPython->import-ipynb) (2.14.0)\n",
      "Requirement already satisfied: stack-data in c:\\users\\harsh patel\\appdata\\local\\programs\\python\\python310\\lib\\site-packages (from IPython->import-ipynb) (0.6.2)\n",
      "Requirement already satisfied: prompt-toolkit<3.1.0,>=3.0.30 in c:\\users\\harsh patel\\appdata\\local\\programs\\python\\python310\\lib\\site-packages (from IPython->import-ipynb) (3.0.36)\n",
      "Requirement already satisfied: jedi>=0.16 in c:\\users\\harsh patel\\appdata\\local\\programs\\python\\python310\\lib\\site-packages (from IPython->import-ipynb) (0.18.2)\n",
      "Requirement already satisfied: colorama in c:\\users\\harsh patel\\appdata\\local\\programs\\python\\python310\\lib\\site-packages (from IPython->import-ipynb) (0.4.6)\n",
      "Requirement already satisfied: pickleshare in c:\\users\\harsh patel\\appdata\\local\\programs\\python\\python310\\lib\\site-packages (from IPython->import-ipynb) (0.7.5)\n",
      "Requirement already satisfied: traitlets>=5 in c:\\users\\harsh patel\\appdata\\local\\programs\\python\\python310\\lib\\site-packages (from IPython->import-ipynb) (5.9.0)\n",
      "Requirement already satisfied: matplotlib-inline in c:\\users\\harsh patel\\appdata\\local\\programs\\python\\python310\\lib\\site-packages (from IPython->import-ipynb) (0.1.6)\n",
      "Requirement already satisfied: backcall in c:\\users\\harsh patel\\appdata\\local\\programs\\python\\python310\\lib\\site-packages (from IPython->import-ipynb) (0.2.0)\n",
      "Requirement already satisfied: decorator in c:\\users\\harsh patel\\appdata\\local\\programs\\python\\python310\\lib\\site-packages (from IPython->import-ipynb) (5.1.1)\n",
      "Requirement already satisfied: jupyter-core in c:\\users\\harsh patel\\appdata\\local\\programs\\python\\python310\\lib\\site-packages (from nbformat->import-ipynb) (5.2.0)\n",
      "Requirement already satisfied: fastjsonschema in c:\\users\\harsh patel\\appdata\\local\\programs\\python\\python310\\lib\\site-packages (from nbformat->import-ipynb) (2.16.2)\n",
      "Requirement already satisfied: jsonschema>=2.6 in c:\\users\\harsh patel\\appdata\\local\\programs\\python\\python310\\lib\\site-packages (from nbformat->import-ipynb) (4.17.3)\n",
      "Requirement already satisfied: parso<0.9.0,>=0.8.0 in c:\\users\\harsh patel\\appdata\\local\\programs\\python\\python310\\lib\\site-packages (from jedi>=0.16->IPython->import-ipynb) (0.8.3)\n",
      "Requirement already satisfied: pyrsistent!=0.17.0,!=0.17.1,!=0.17.2,>=0.14.0 in c:\\users\\harsh patel\\appdata\\local\\programs\\python\\python310\\lib\\site-packages (from jsonschema>=2.6->nbformat->import-ipynb) (0.19.3)\n",
      "Requirement already satisfied: attrs>=17.4.0 in c:\\users\\harsh patel\\appdata\\local\\programs\\python\\python310\\lib\\site-packages (from jsonschema>=2.6->nbformat->import-ipynb) (22.2.0)\n",
      "Requirement already satisfied: wcwidth in c:\\users\\harsh patel\\appdata\\local\\programs\\python\\python310\\lib\\site-packages (from prompt-toolkit<3.1.0,>=3.0.30->IPython->import-ipynb) (0.2.6)\n",
      "Requirement already satisfied: pywin32>=1.0 in c:\\users\\harsh patel\\appdata\\local\\programs\\python\\python310\\lib\\site-packages (from jupyter-core->nbformat->import-ipynb) (305)\n",
      "Requirement already satisfied: platformdirs>=2.5 in c:\\users\\harsh patel\\appdata\\local\\programs\\python\\python310\\lib\\site-packages (from jupyter-core->nbformat->import-ipynb) (3.0.0)\n",
      "Requirement already satisfied: pure-eval in c:\\users\\harsh patel\\appdata\\local\\programs\\python\\python310\\lib\\site-packages (from stack-data->IPython->import-ipynb) (0.2.2)\n",
      "Requirement already satisfied: executing>=1.2.0 in c:\\users\\harsh patel\\appdata\\local\\programs\\python\\python310\\lib\\site-packages (from stack-data->IPython->import-ipynb) (1.2.0)\n",
      "Requirement already satisfied: asttokens>=2.1.0 in c:\\users\\harsh patel\\appdata\\local\\programs\\python\\python310\\lib\\site-packages (from stack-data->IPython->import-ipynb) (2.2.1)\n",
      "Requirement already satisfied: six in c:\\users\\harsh patel\\appdata\\local\\programs\\python\\python310\\lib\\site-packages (from asttokens>=2.1.0->stack-data->IPython->import-ipynb) (1.16.0)\n",
      "Installing collected packages: import-ipynb\n",
      "Successfully installed import-ipynb-0.1.4\n"
     ]
    },
    {
     "name": "stderr",
     "output_type": "stream",
     "text": [
      "\n",
      "[notice] A new release of pip available: 22.2.1 -> 23.0.1\n",
      "[notice] To update, run: python.exe -m pip install --upgrade pip\n"
     ]
    },
    {
     "name": "stdout",
     "output_type": "stream",
     "text": [
      "importing Jupyter notebook from Preprocessing_function.ipynb\n"
     ]
    }
   ],
   "source": [
    "!pip install import-ipynb\n",
    "import import_ipynb\n",
    "import Preprocessing_function "
   ]
  },
  {
   "cell_type": "code",
   "execution_count": 15,
   "id": "db3f410e",
   "metadata": {},
   "outputs": [
    {
     "ename": "TypeError",
     "evalue": "save_data() missing 1 required positional argument: 'filename'",
     "output_type": "error",
     "traceback": [
      "\u001b[1;31m---------------------------------------------------------------------------\u001b[0m",
      "\u001b[1;31mTypeError\u001b[0m                                 Traceback (most recent call last)",
      "Cell \u001b[1;32mIn[15], line 1\u001b[0m\n\u001b[1;32m----> 1\u001b[0m processed_data \u001b[39m=\u001b[39m Preprocessing_function\u001b[39m.\u001b[39;49msave_data(train_data)\n\u001b[0;32m      2\u001b[0m \u001b[39mprint\u001b[39m(processed_data)\n",
      "\u001b[1;31mTypeError\u001b[0m: save_data() missing 1 required positional argument: 'filename'"
     ]
    }
   ],
   "source": [
    "processed_data = Preprocessing_function.save_data(train_data)\n",
    "print(processed_data)"
   ]
  },
  {
   "cell_type": "code",
   "execution_count": null,
   "id": "75cac892",
   "metadata": {},
   "outputs": [],
   "source": []
  }
 ],
 "metadata": {
  "kernelspec": {
   "display_name": "Python 3",
   "language": "python",
   "name": "python3"
  },
  "language_info": {
   "codemirror_mode": {
    "name": "ipython",
    "version": 3
   },
   "file_extension": ".py",
   "mimetype": "text/x-python",
   "name": "python",
   "nbconvert_exporter": "python",
   "pygments_lexer": "ipython3",
   "version": "3.9.6"
  },
  "vscode": {
   "interpreter": {
    "hash": "31f2aee4e71d21fbe5cf8b01ff0e069b9275f58929596ceb00d14d90e3e16cd6"
   }
  }
 },
 "nbformat": 4,
 "nbformat_minor": 5
}
