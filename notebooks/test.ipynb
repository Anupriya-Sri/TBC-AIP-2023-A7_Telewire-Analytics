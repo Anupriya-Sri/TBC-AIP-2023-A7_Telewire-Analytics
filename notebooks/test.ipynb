{
 "cells": [
  {
   "cell_type": "code",
   "execution_count": 17,
   "id": "0ca2961a",
   "metadata": {},
   "outputs": [],
   "source": [
    "from sklearn.model_selection import train_test_split\n",
    "import numpy as np\n",
    "import pandas as pd\n",
    "import joblib\n",
    "from sklearn.ensemble import RandomForestClassifier"
   ]
  },
  {
   "cell_type": "code",
   "execution_count": 13,
   "id": "e746c7b9",
   "metadata": {},
   "outputs": [],
   "source": [
    "data = pd.read_csv('../data/raw/data.csv',  encoding= 'unicode_escape')\n",
    "y = data[\"Unusual\"]                      #defining the labels\n",
    "X = data.drop([\"Unusual\"], axis=1)\n",
    "X_train, X_test, y_train, y_test = train_test_split(X, y, test_size=0.33, random_state=42)"
   ]
  },
  {
   "cell_type": "code",
   "execution_count": 19,
   "id": "b993ae21",
   "metadata": {},
   "outputs": [],
   "source": [
    "# Load the pipeline from disk using joblib\n",
    "loaded_pipeline = joblib.load('preprocessing_pipeline.joblib')\n",
    "X_processed_data = loaded_pipeline.transform(X_train)"
   ]
  },
  {
   "cell_type": "code",
   "execution_count": 18,
   "id": "aa8a62c4",
   "metadata": {},
   "outputs": [],
   "source": [
    "# Define the machine learning model\n",
    "model = RandomForestClassifier(n_estimators=100, max_depth=5)"
   ]
  },
  {
   "cell_type": "code",
   "execution_count": 21,
   "id": "995f6486",
   "metadata": {},
   "outputs": [
    {
     "data": {
      "text/plain": [
       "RandomForestClassifier(max_depth=5)"
      ]
     },
     "execution_count": 21,
     "metadata": {},
     "output_type": "execute_result"
    }
   ],
   "source": [
    "# Fit the machine learning model to the pre-processed data\n",
    "model.fit(X_processed_data, y_train)"
   ]
  }
 ],
 "metadata": {
  "kernelspec": {
   "display_name": "Python 3",
   "language": "python",
   "name": "python3"
  },
  "language_info": {
   "codemirror_mode": {
    "name": "ipython",
    "version": 3
   },
   "file_extension": ".py",
   "mimetype": "text/x-python",
   "name": "python",
   "nbconvert_exporter": "python",
   "pygments_lexer": "ipython3",
   "version": "3.10.1"
  },
  "vscode": {
   "interpreter": {
    "hash": "1f7c1d7db85b32830ff0d55d734086d39ad7be3e9db2adfe068dfce6a42a57de"
   }
  }
 },
 "nbformat": 4,
 "nbformat_minor": 5
}
