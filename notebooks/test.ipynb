{
 "cells": [
  {
   "cell_type": "code",
   "execution_count": 257,
   "id": "0ca2961a",
   "metadata": {},
   "outputs": [],
   "source": [
    "from sklearn.model_selection import train_test_split\n",
    "import numpy as np\n",
    "import pandas as pd\n",
    "from joblib import load\n",
    "from sklearn.ensemble import RandomForestClassifier, VotingClassifier\n",
    "from sklearn.metrics import confusion_matrix, classification_report,accuracy_score, recall_score\n",
    "from sklearn.linear_model import LogisticRegression\n",
    "from sklearn.svm import SVC\n",
    "from sklearn.tree import DecisionTreeClassifier\n",
    "from sklearn.model_selection import GridSearchCV, RepeatedStratifiedKFold\n",
    "from sklearn.pipeline import Pipeline\n",
    "from xgboost import XGBClassifier\n",
    "import dill\n",
    "from sklearn.preprocessing import StandardScaler, OneHotEncoder, LabelEncoder\n",
    "import joblib\n",
    "from sklearn.neural_network import MLPClassifier\n",
    "from utils import split_data\n",
    "from sklearn.model_selection import KFold, StratifiedKFold,cross_validate,cross_val_score\n"
   ]
  },
  {
   "cell_type": "code",
   "execution_count": 258,
   "id": "e746c7b9",
   "metadata": {},
   "outputs": [],
   "source": [
    "X_train,y_train = split_data.get_train_data()"
   ]
  },
  {
   "cell_type": "code",
   "execution_count": 259,
   "id": "de011acb",
   "metadata": {},
   "outputs": [],
   "source": [
    "X_test,y_test = split_data.get_test_data()"
   ]
  },
  {
   "cell_type": "code",
   "execution_count": 260,
   "id": "aa8a62c4",
   "metadata": {
    "scrolled": true
   },
   "outputs": [
    {
     "name": "stdout",
     "output_type": "stream",
     "text": [
      "0.801980198019802\n"
     ]
    }
   ],
   "source": [
    "with open('pipelines/PreprocessingPipeline2.0.pkl', 'rb') as f:\n",
    "    pipeline = dill.load(f)\n",
    "# Define the model pipeline\n",
    "model_pipeline = Pipeline([\n",
    "    ('preprocessing', pipeline),\n",
    "    ('xgboost', XGBClassifier()),\n",
    "])\n",
    "model_pipeline.fit(X_train, y_train)\n",
    "predict = model_pipeline.predict(X_test)\n",
    "print(recall_score(predict,y_test))"
   ]
  },
  {
   "cell_type": "code",
   "execution_count": 262,
   "id": "e5f0b1be",
   "metadata": {},
   "outputs": [],
   "source": [
    "with open('../models/ModelXGboost.pkl', 'wb') as f:\n",
    "    dill.dump(model_pipeline, f)"
   ]
  },
  {
   "cell_type": "code",
   "execution_count": null,
   "id": "c8a6782d",
   "metadata": {},
   "outputs": [],
   "source": []
  }
 ],
 "metadata": {
  "kernelspec": {
   "display_name": "Python 3 (ipykernel)",
   "language": "python",
   "name": "python3"
  },
  "language_info": {
   "codemirror_mode": {
    "name": "ipython",
    "version": 3
   },
   "file_extension": ".py",
   "mimetype": "text/x-python",
   "name": "python",
   "nbconvert_exporter": "python",
   "pygments_lexer": "ipython3",
   "version": "3.9.13"
  },
  "vscode": {
   "interpreter": {
    "hash": "31f2aee4e71d21fbe5cf8b01ff0e069b9275f58929596ceb00d14d90e3e16cd6"
   }
  }
 },
 "nbformat": 4,
 "nbformat_minor": 5
}
