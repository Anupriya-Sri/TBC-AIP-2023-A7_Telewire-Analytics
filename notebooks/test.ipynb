{
 "cells": [
  {
   "cell_type": "code",
   "execution_count": 29,
   "id": "0ca2961a",
   "metadata": {},
   "outputs": [
    {
     "name": "stdout",
     "output_type": "stream",
     "text": [
      "importing Jupyter notebook from split_data.ipynb\n"
     ]
    }
   ],
   "source": [
    "\n",
    "from sklearn.model_selection import train_test_split\n",
    "import numpy as np\n",
    "import pandas as pd\n",
    "import joblib\n",
    "from sklearn.ensemble import RandomForestClassifier, VotingClassifier\n",
    "from sklearn.metrics import confusion_matrix, classification_report,accuracy_score, recall_score\n",
    "from sklearn.linear_model import LogisticRegression\n",
    "from sklearn.svm import SVC\n",
    "from sklearn.tree import DecisionTreeClassifier\n",
    "from sklearn.model_selection import GridSearchCV, RepeatedStratifiedKFold\n",
    "from sklearn.pipeline import Pipeline\n",
    "from xgboost import XGBClassifier\n",
    "import import_ipynb\n",
    "import split_data"
   ]
  },
  {
   "cell_type": "code",
   "execution_count": 30,
   "id": "e746c7b9",
   "metadata": {},
   "outputs": [],
   "source": [
    "X_train,y_train = split_data.get_train_data()"
   ]
  },
  {
   "cell_type": "code",
   "execution_count": 31,
   "id": "de011acb",
   "metadata": {},
   "outputs": [],
   "source": [
    "X_test,y_test = split_data.get_test_data()"
   ]
  },
  {
   "cell_type": "code",
   "execution_count": 16,
   "id": "aa8a62c4",
   "metadata": {},
   "outputs": [
    {
     "name": "stdout",
     "output_type": "stream",
     "text": [
      "0.9958289885297185\n"
     ]
    }
   ],
   "source": [
    "\n",
    "\n",
    "# Define the model pipeline\n",
    "model_pipeline = Pipeline([\n",
    "    ('preprocessing', joblib.load('preprocessing_pipeline.joblib')),\n",
    "    ('xgboost', XGBClassifier()),\n",
    "\n",
    "    \n",
    "])\n",
    "\n",
    "# Fit the model pipeline to the training data\n",
    "model_pipeline.fit(X_train, y_train)\n",
    "predict = model_pipeline.predict(X_test)\n",
    "print(recall_score(predict,y_test))\n"
   ]
  },
  {
   "cell_type": "code",
   "execution_count": 18,
   "id": "d35dce8d",
   "metadata": {},
   "outputs": [],
   "source": [
    "loaded_pipeline = joblib.load('preprocessing_pipeline.joblib')\n",
    "X_processed_data = loaded_pipeline.transform(X_train)\n",
    "\n",
    "# group / ensemble of models\n",
    "estimator = []\n",
    "estimator.append(('LR', LogisticRegression()))\n",
    "estimator.append(('SVC', SVC(kernel='linear')))\n",
    "estimator.append(('DTC', DecisionTreeClassifier()))\n",
    "estimator.append(('RFC', RandomForestClassifier()))\n",
    "  \n",
    "  \n",
    "# Voting Classifier with hard voting\n",
    "vot_hard = VotingClassifier(estimators = estimator, voting ='hard')\n",
    "vot_hard.fit(X_processed_data, y_train)\n",
    "y_pred = vot_hard.predict(loaded_pipeline.transform(X_test))"
   ]
  },
  {
   "cell_type": "code",
   "execution_count": 19,
   "id": "5cd47982",
   "metadata": {},
   "outputs": [
    {
     "name": "stdout",
     "output_type": "stream",
     "text": [
      "1.0\n"
     ]
    }
   ],
   "source": [
    "print(recall_score(y_pred,y_test))"
   ]
  },
  {
   "cell_type": "code",
   "execution_count": 16,
   "id": "b993ae21",
   "metadata": {},
   "outputs": [],
   "source": [
    "# Load the pipeline from disk using joblib\n",
    "loaded_pipeline = joblib.load('preprocessing_pipeline.joblib')\n",
    "X_processed_data = loaded_pipeline.transform(X_train)\n",
    "\n",
    "\n",
    "# fit model no training data\n",
    "model_xgb = XGBClassifier()\n",
    "model_xgb.fit(X_processed_data, y_train)"
   ]
  },
  {
   "cell_type": "code",
   "execution_count": 9,
   "id": "9d973dfc",
   "metadata": {},
   "outputs": [
    {
     "name": "stdout",
     "output_type": "stream",
     "text": [
      "Collecting xgboost\n",
      "  Downloading xgboost-1.7.4-py3-none-macosx_10_15_x86_64.macosx_11_0_x86_64.macosx_12_0_x86_64.whl (1.8 MB)\n",
      "\u001b[2K     \u001b[90m━━━━━━━━━━━━━━━━━━━━━━━━━━━━━━━━━━━━━━━━\u001b[0m \u001b[32m1.8/1.8 MB\u001b[0m \u001b[31m17.5 MB/s\u001b[0m eta \u001b[36m0:00:00\u001b[0ma \u001b[36m0:00:01\u001b[0m\n",
      "\u001b[?25hRequirement already satisfied: numpy in /Users/nikulnayi/opt/anaconda3/lib/python3.9/site-packages (from xgboost) (1.21.5)\n",
      "Requirement already satisfied: scipy in /Users/nikulnayi/opt/anaconda3/lib/python3.9/site-packages (from xgboost) (1.9.1)\n",
      "Installing collected packages: xgboost\n",
      "Successfully installed xgboost-1.7.4\n"
     ]
    }
   ],
   "source": [
    "#!pip install xgboost"
   ]
  },
  {
   "cell_type": "code",
   "execution_count": null,
   "id": "b047ee33",
   "metadata": {},
   "outputs": [],
   "source": [
    "## Pending!!!!!\n",
    "\n",
    "\n",
    "# rskf = RepeatedStratifiedKFold(n_splits = 5, n_repeats = 2, random_state = 42)"
   ]
  },
  {
   "cell_type": "code",
   "execution_count": 35,
   "id": "995f6486",
   "metadata": {},
   "outputs": [],
   "source": [
    "y_pred_xgb = model_xgb.predict(loaded_pipeline.transform(X_test))"
   ]
  },
  {
   "cell_type": "code",
   "execution_count": 36,
   "id": "aabc8722",
   "metadata": {},
   "outputs": [
    {
     "name": "stdout",
     "output_type": "stream",
     "text": [
      "0.9944588104913188\n"
     ]
    }
   ],
   "source": [
    "print(recall_score(y_pred_xgb,y_test))"
   ]
  },
  {
   "cell_type": "code",
   "execution_count": 26,
   "id": "9851325c",
   "metadata": {},
   "outputs": [],
   "source": [
    "# !pip install import-ipynb\n"
   ]
  },
  {
   "cell_type": "code",
   "execution_count": 27,
   "id": "db3f410e",
   "metadata": {},
   "outputs": [
    {
     "name": "stdout",
     "output_type": "stream",
     "text": [
      "(       Unnamed: 0   Time CellName  PRBUsageUL  PRBUsageDL  meanThr_DL  \\\n",
      "0           35217   8:30    9ALTE       3.537       0.808       0.148   \n",
      "1             507  18:15    4CLTE      15.259       1.819       0.457   \n",
      "2            6074   7:15    6ALTE       3.335       0.909       0.448   \n",
      "3           12206  21:30    7WLTE       2.728       5.154       0.786   \n",
      "4           29773  18:45    6ULTE       2.526       5.558       1.936   \n",
      "...           ...    ...      ...         ...         ...         ...   \n",
      "25827       32081  19:45    6BLTE      24.875       2.786       0.803   \n",
      "25828        7259  15:30    3CLTE      11.217       2.829       1.018   \n",
      "25829       21584  20:45    5ALTE       6.164       0.808       0.279   \n",
      "25830       36543  19:30    4ALTE       7.882       1.011       0.203   \n",
      "25831       10137   3:45    3BLTE       4.080       2.090       0.911   \n",
      "\n",
      "       meanThr_UL  maxThr_DL  maxThr_UL  meanUE_DL  meanUE_UL  maxUE_DL  \\\n",
      "0           0.013      4.236      0.111      1.051      1.021       3.0   \n",
      "1           0.039     82.104      0.560      1.172      1.112       5.0   \n",
      "2           0.032     31.147      0.849      1.071      0.010       3.0   \n",
      "3           0.085     19.737      1.408      1.374      0.010       6.0   \n",
      "4           0.116     37.587      1.253      1.445      0.010       6.0   \n",
      "...           ...        ...        ...        ...        ...       ...   \n",
      "25827       0.092     34.479      1.096      1.333      0.010       7.0   \n",
      "25828       0.057     37.103      0.859      1.152      1.071       5.0   \n",
      "25829       0.040     11.190      0.546      1.101      1.031       4.0   \n",
      "25830       0.029     26.180      2.423      1.132      1.021       4.0   \n",
      "25831       0.036     60.845      0.348      1.045      1.005       4.0   \n",
      "\n",
      "       maxUE_UL maxUE_UL+DL  \n",
      "0           2.0           5  \n",
      "1           4.0           9  \n",
      "2           2.0           5  \n",
      "3           4.0          10  \n",
      "4           4.0          10  \n",
      "...         ...         ...  \n",
      "25827       4.0          11  \n",
      "25828       3.0           8  \n",
      "25829       2.0           6  \n",
      "25830       2.0           6  \n",
      "25831       3.0           7  \n",
      "\n",
      "[25832 rows x 14 columns], 0        0\n",
      "1        0\n",
      "2        0\n",
      "3        0\n",
      "4        0\n",
      "        ..\n",
      "25827    1\n",
      "25828    0\n",
      "25829    0\n",
      "25830    0\n",
      "25831    1\n",
      "Name: Unusual, Length: 25832, dtype: int64)\n"
     ]
    }
   ],
   "source": [
    "\n",
    "print(processed_data)"
   ]
  },
  {
   "cell_type": "code",
   "execution_count": null,
   "id": "75cac892",
   "metadata": {},
   "outputs": [],
   "source": []
  }
 ],
 "metadata": {
  "kernelspec": {
   "display_name": "Python 3 (ipykernel)",
   "language": "python",
   "name": "python3"
  },
  "language_info": {
   "codemirror_mode": {
    "name": "ipython",
    "version": 3
   },
   "file_extension": ".py",
   "mimetype": "text/x-python",
   "name": "python",
   "nbconvert_exporter": "python",
   "pygments_lexer": "ipython3",
   "version": "3.9.13"
  },
  "vscode": {
   "interpreter": {
    "hash": "1f7c1d7db85b32830ff0d55d734086d39ad7be3e9db2adfe068dfce6a42a57de"
   }
  }
 },
 "nbformat": 4,
 "nbformat_minor": 5
}
