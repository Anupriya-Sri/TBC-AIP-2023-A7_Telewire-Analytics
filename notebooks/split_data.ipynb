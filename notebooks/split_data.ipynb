{
 "cells": [
  {
   "cell_type": "code",
   "execution_count": 1,
   "metadata": {},
   "outputs": [
    {
     "name": "stdout",
     "output_type": "stream",
     "text": [
      "../data/raw/data.csv\n"
     ]
    }
   ],
   "source": [
    "import pandas as pd\n",
    "from sklearn.model_selection import train_test_split\n",
    "\n",
    "def split_telewire_data(input_filepath, output_folder):\n",
    "    \"\"\"This function splits an input dataset into train\n",
    "    and test sets, and saves these in the output_folder.\n",
    "\n",
    "    Parameters\n",
    "    ----------\n",
    "    input_filepath : string\n",
    "        Full path, incl. filename, for the input dataset.\n",
    "        This must be a .csv file.\n",
    "    output_folder : string\n",
    "        Folder location to store split data files.\n",
    "\n",
    "    Returns\n",
    "    -------\n",
    "    Null\n",
    "\n",
    "    Examples\n",
    "    --------\n",
    "    >>> input_file = '../data/raw/data.csv'\n",
    "    >>> output_loc = '../data/raw/'\n",
    "    >>> split_data(input_file, output_loc)\n",
    "    \"\"\"\n",
    "\n",
    "    # Unit tests\n",
    "    assert input_filepath[-4:] == '.csv', \"Input file has to be .csv!\"               #Check that input file is .csv\n",
    "    # read the csv file using pandas\n",
    "    cell_tower_data = pd.read_csv(input_data_path, encoding = \"windows-1254\")\n",
    "    \n",
    "    # test size should be between 0 and 1\n",
    "    # random_state is any integer number\n",
    "    training_data, testing_data = train_test_split(cell_tower_data, test_size=0.3, random_state=11)\n",
    "    \n",
    "    # saving the train and test data in different files\n",
    "    training_data.to_csv(output_folder+'train.csv')\n",
    "    testing_data.to_csv(output_folder+'test.csv')\n",
    "\n",
    "\n",
    "def get_train_data():\n",
    "    train_data = pd.read_csv('../data/raw/train.csv',  encoding= 'unicode_escape')\n",
    "    y_train = train_data[\"Unusual\"]                      #defining the labels\n",
    "    X_train = train_data.drop([\"Unusual\"], axis=1)\n",
    "\n",
    "    return X_train,y_train\n",
    "\n",
    "def get_test_data():\n",
    "    test_data = pd.read_csv('../data/raw/test.csv',  encoding= 'unicode_escape')\n",
    "    y_test = test_data[\"Unusual\"]                      #defining the labels\n",
    "    X_test = test_data.drop([\"Unusual\"], axis=1)\n",
    "    return X_test,y_test\n",
    "\n",
    "\n",
    "input_data_path ='../data/raw/data.csv'\n",
    "output_data_path = '../data/raw/'\n",
    "\n",
    "# funtion call\n",
    "split_telewire_data(input_data_path, output_data_path)"
   ]
  }
 ],
 "metadata": {
  "kernelspec": {
   "display_name": "Python 3",
   "language": "python",
   "name": "python3"
  },
  "language_info": {
   "codemirror_mode": {
    "name": "ipython",
    "version": 3
   },
   "file_extension": ".py",
   "mimetype": "text/x-python",
   "name": "python",
   "nbconvert_exporter": "python",
   "pygments_lexer": "ipython3",
   "version": "3.10.1"
  },
  "orig_nbformat": 4,
  "vscode": {
   "interpreter": {
    "hash": "1f7c1d7db85b32830ff0d55d734086d39ad7be3e9db2adfe068dfce6a42a57de"
   }
  }
 },
 "nbformat": 4,
 "nbformat_minor": 2
}
